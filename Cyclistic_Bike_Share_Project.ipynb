{
 "cells": [
  {
   "cell_type": "markdown",
   "id": "69cfeea5",
   "metadata": {},
   "source": [
    "# About the company\n",
    "In 2016, Cyclistic launched a successful bike-share offering. Since then, the program has grown to a fleet of 5,824 bicycles that\n",
    "are geotracked and locked into a network of 692 stations across Chicago. The bikes can be unlocked from one station and\n",
    "returned to any other station in the system anytime.\n",
    "Until now, Cyclistic’s marketing strategy relied on building general awareness and appealing to broad consumer segments.\n",
    "One approach that helped make these things possible was the flexibility of its pricing plans: single-ride passes, full-day passes,\n",
    "and annual memberships. Customers who purchase single-ride or full-day passes are referred to as casual riders. Customers\n",
    "who purchase annual memberships are Cyclistic members.\n",
    "Cyclistic’s finance analysts have concluded that annual members are much more profitable than casual riders. Although the\n",
    "pricing flexibility helps Cyclistic attract more customers, Moreno believes that maximizing the number of annual members will\n",
    "be key to future growth. Rather than creating a marketing campaign that targets all-new customers, Moreno believes there is a\n",
    "very good chance to convert casual riders into members. She notes that casual riders are already aware of the Cyclistic\n",
    "program and have chosen Cyclistic for their mobility needs.\n",
    "Moreno has set a clear goal: Design marketing strategies aimed at converting casual riders into annual members. In order to\n",
    "do that, however, the marketing analyst team needs to better understand how annual members and casual riders differ, why\n",
    "casual riders would buy a membership, and how digital media could affect their marketing tactics. Moreno and her team are\n",
    "interested in analyzing the Cyclistic historical bike trip data to identify trends."
   ]
  },
  {
   "cell_type": "markdown",
   "id": "38288ed9",
   "metadata": {},
   "source": [
    "### Importing importatnt Libraries"
   ]
  },
  {
   "cell_type": "code",
   "execution_count": 1,
   "id": "c7df857a",
   "metadata": {},
   "outputs": [],
   "source": [
    "import numpy as np\n",
    "import pandas as pd\n",
    "import matplotlib.pyplot as plt\n",
    "import seaborn as sns\n",
    "%matplotlib inline\n",
    "from glob import glob"
   ]
  },
  {
   "cell_type": "markdown",
   "id": "ff1f60e8",
   "metadata": {},
   "source": [
    "### Loading Datasets"
   ]
  },
  {
   "cell_type": "code",
   "execution_count": 2,
   "id": "1455ca3c",
   "metadata": {},
   "outputs": [],
   "source": [
    "files= sorted(glob('2021*'))"
   ]
  },
  {
   "cell_type": "code",
   "execution_count": 3,
   "id": "7d97cfec",
   "metadata": {},
   "outputs": [
    {
     "data": {
      "text/plain": [
       "['202101.csv',\n",
       " '202102.csv',\n",
       " '202103.csv',\n",
       " '202104.csv',\n",
       " '202105.csv',\n",
       " '202106.csv',\n",
       " '202107.csv',\n",
       " '202108.csv',\n",
       " '202109.csv',\n",
       " '202110.csv',\n",
       " '202111.csv',\n",
       " '202112.csv']"
      ]
     },
     "execution_count": 3,
     "metadata": {},
     "output_type": "execute_result"
    }
   ],
   "source": [
    "files"
   ]
  },
  {
   "cell_type": "code",
   "execution_count": 4,
   "id": "cb39de41",
   "metadata": {},
   "outputs": [],
   "source": [
    "data=pd.concat((pd.read_csv(file) for file in files) , ignore_index = True)"
   ]
  },
  {
   "cell_type": "markdown",
   "id": "bf1ba82b",
   "metadata": {},
   "source": [
    "### Checking Load Datasets"
   ]
  },
  {
   "cell_type": "code",
   "execution_count": 5,
   "id": "467db597",
   "metadata": {},
   "outputs": [
    {
     "data": {
      "text/html": [
       "<div>\n",
       "<style scoped>\n",
       "    .dataframe tbody tr th:only-of-type {\n",
       "        vertical-align: middle;\n",
       "    }\n",
       "\n",
       "    .dataframe tbody tr th {\n",
       "        vertical-align: top;\n",
       "    }\n",
       "\n",
       "    .dataframe thead th {\n",
       "        text-align: right;\n",
       "    }\n",
       "</style>\n",
       "<table border=\"1\" class=\"dataframe\">\n",
       "  <thead>\n",
       "    <tr style=\"text-align: right;\">\n",
       "      <th></th>\n",
       "      <th>ride_id</th>\n",
       "      <th>rideable_type</th>\n",
       "      <th>started_at</th>\n",
       "      <th>ended_at</th>\n",
       "      <th>start_station_name</th>\n",
       "      <th>start_station_id</th>\n",
       "      <th>end_station_name</th>\n",
       "      <th>end_station_id</th>\n",
       "      <th>start_lat</th>\n",
       "      <th>start_lng</th>\n",
       "      <th>end_lat</th>\n",
       "      <th>end_lng</th>\n",
       "      <th>member_casual</th>\n",
       "    </tr>\n",
       "  </thead>\n",
       "  <tbody>\n",
       "    <tr>\n",
       "      <th>0</th>\n",
       "      <td>E19E6F1B8D4C42ED</td>\n",
       "      <td>electric_bike</td>\n",
       "      <td>2021-01-23 16:14:19</td>\n",
       "      <td>2021-01-23 16:24:44</td>\n",
       "      <td>California Ave &amp; Cortez St</td>\n",
       "      <td>17660</td>\n",
       "      <td>NaN</td>\n",
       "      <td>NaN</td>\n",
       "      <td>41.900341</td>\n",
       "      <td>-87.696743</td>\n",
       "      <td>41.89</td>\n",
       "      <td>-87.72</td>\n",
       "      <td>member</td>\n",
       "    </tr>\n",
       "    <tr>\n",
       "      <th>1</th>\n",
       "      <td>DC88F20C2C55F27F</td>\n",
       "      <td>electric_bike</td>\n",
       "      <td>2021-01-27 18:43:08</td>\n",
       "      <td>2021-01-27 18:47:12</td>\n",
       "      <td>California Ave &amp; Cortez St</td>\n",
       "      <td>17660</td>\n",
       "      <td>NaN</td>\n",
       "      <td>NaN</td>\n",
       "      <td>41.900333</td>\n",
       "      <td>-87.696707</td>\n",
       "      <td>41.90</td>\n",
       "      <td>-87.69</td>\n",
       "      <td>member</td>\n",
       "    </tr>\n",
       "    <tr>\n",
       "      <th>2</th>\n",
       "      <td>EC45C94683FE3F27</td>\n",
       "      <td>electric_bike</td>\n",
       "      <td>2021-01-21 22:35:54</td>\n",
       "      <td>2021-01-21 22:37:14</td>\n",
       "      <td>California Ave &amp; Cortez St</td>\n",
       "      <td>17660</td>\n",
       "      <td>NaN</td>\n",
       "      <td>NaN</td>\n",
       "      <td>41.900313</td>\n",
       "      <td>-87.696643</td>\n",
       "      <td>41.90</td>\n",
       "      <td>-87.70</td>\n",
       "      <td>member</td>\n",
       "    </tr>\n",
       "    <tr>\n",
       "      <th>3</th>\n",
       "      <td>4FA453A75AE377DB</td>\n",
       "      <td>electric_bike</td>\n",
       "      <td>2021-01-07 13:31:13</td>\n",
       "      <td>2021-01-07 13:42:55</td>\n",
       "      <td>California Ave &amp; Cortez St</td>\n",
       "      <td>17660</td>\n",
       "      <td>NaN</td>\n",
       "      <td>NaN</td>\n",
       "      <td>41.900399</td>\n",
       "      <td>-87.696662</td>\n",
       "      <td>41.92</td>\n",
       "      <td>-87.69</td>\n",
       "      <td>member</td>\n",
       "    </tr>\n",
       "    <tr>\n",
       "      <th>4</th>\n",
       "      <td>BE5E8EB4E7263A0B</td>\n",
       "      <td>electric_bike</td>\n",
       "      <td>2021-01-23 02:24:02</td>\n",
       "      <td>2021-01-23 02:24:45</td>\n",
       "      <td>California Ave &amp; Cortez St</td>\n",
       "      <td>17660</td>\n",
       "      <td>NaN</td>\n",
       "      <td>NaN</td>\n",
       "      <td>41.900326</td>\n",
       "      <td>-87.696697</td>\n",
       "      <td>41.90</td>\n",
       "      <td>-87.70</td>\n",
       "      <td>casual</td>\n",
       "    </tr>\n",
       "  </tbody>\n",
       "</table>\n",
       "</div>"
      ],
      "text/plain": [
       "            ride_id  rideable_type           started_at             ended_at  \\\n",
       "0  E19E6F1B8D4C42ED  electric_bike  2021-01-23 16:14:19  2021-01-23 16:24:44   \n",
       "1  DC88F20C2C55F27F  electric_bike  2021-01-27 18:43:08  2021-01-27 18:47:12   \n",
       "2  EC45C94683FE3F27  electric_bike  2021-01-21 22:35:54  2021-01-21 22:37:14   \n",
       "3  4FA453A75AE377DB  electric_bike  2021-01-07 13:31:13  2021-01-07 13:42:55   \n",
       "4  BE5E8EB4E7263A0B  electric_bike  2021-01-23 02:24:02  2021-01-23 02:24:45   \n",
       "\n",
       "           start_station_name start_station_id end_station_name  \\\n",
       "0  California Ave & Cortez St            17660              NaN   \n",
       "1  California Ave & Cortez St            17660              NaN   \n",
       "2  California Ave & Cortez St            17660              NaN   \n",
       "3  California Ave & Cortez St            17660              NaN   \n",
       "4  California Ave & Cortez St            17660              NaN   \n",
       "\n",
       "  end_station_id  start_lat  start_lng  end_lat  end_lng member_casual  \n",
       "0            NaN  41.900341 -87.696743    41.89   -87.72        member  \n",
       "1            NaN  41.900333 -87.696707    41.90   -87.69        member  \n",
       "2            NaN  41.900313 -87.696643    41.90   -87.70        member  \n",
       "3            NaN  41.900399 -87.696662    41.92   -87.69        member  \n",
       "4            NaN  41.900326 -87.696697    41.90   -87.70        casual  "
      ]
     },
     "execution_count": 5,
     "metadata": {},
     "output_type": "execute_result"
    }
   ],
   "source": [
    "data.head()"
   ]
  },
  {
   "cell_type": "code",
   "execution_count": 6,
   "id": "54f21c71",
   "metadata": {},
   "outputs": [
    {
     "name": "stdout",
     "output_type": "stream",
     "text": [
      "<class 'pandas.core.frame.DataFrame'>\n",
      "RangeIndex: 5595063 entries, 0 to 5595062\n",
      "Data columns (total 13 columns):\n",
      " #   Column              Dtype  \n",
      "---  ------              -----  \n",
      " 0   ride_id             object \n",
      " 1   rideable_type       object \n",
      " 2   started_at          object \n",
      " 3   ended_at            object \n",
      " 4   start_station_name  object \n",
      " 5   start_station_id    object \n",
      " 6   end_station_name    object \n",
      " 7   end_station_id      object \n",
      " 8   start_lat           float64\n",
      " 9   start_lng           float64\n",
      " 10  end_lat             float64\n",
      " 11  end_lng             float64\n",
      " 12  member_casual       object \n",
      "dtypes: float64(4), object(9)\n",
      "memory usage: 554.9+ MB\n"
     ]
    }
   ],
   "source": [
    "data.info()"
   ]
  },
  {
   "cell_type": "code",
   "execution_count": 7,
   "id": "84b0a82c",
   "metadata": {},
   "outputs": [
    {
     "data": {
      "text/html": [
       "<div>\n",
       "<style scoped>\n",
       "    .dataframe tbody tr th:only-of-type {\n",
       "        vertical-align: middle;\n",
       "    }\n",
       "\n",
       "    .dataframe tbody tr th {\n",
       "        vertical-align: top;\n",
       "    }\n",
       "\n",
       "    .dataframe thead th {\n",
       "        text-align: right;\n",
       "    }\n",
       "</style>\n",
       "<table border=\"1\" class=\"dataframe\">\n",
       "  <thead>\n",
       "    <tr style=\"text-align: right;\">\n",
       "      <th></th>\n",
       "      <th>start_lat</th>\n",
       "      <th>start_lng</th>\n",
       "      <th>end_lat</th>\n",
       "      <th>end_lng</th>\n",
       "    </tr>\n",
       "  </thead>\n",
       "  <tbody>\n",
       "    <tr>\n",
       "      <th>count</th>\n",
       "      <td>5.595063e+06</td>\n",
       "      <td>5.595063e+06</td>\n",
       "      <td>5.590292e+06</td>\n",
       "      <td>5.590292e+06</td>\n",
       "    </tr>\n",
       "    <tr>\n",
       "      <th>mean</th>\n",
       "      <td>4.190107e+01</td>\n",
       "      <td>-8.764605e+01</td>\n",
       "      <td>4.190134e+01</td>\n",
       "      <td>-8.764626e+01</td>\n",
       "    </tr>\n",
       "    <tr>\n",
       "      <th>std</th>\n",
       "      <td>4.608635e-02</td>\n",
       "      <td>2.872111e-02</td>\n",
       "      <td>4.618916e-02</td>\n",
       "      <td>2.889959e-02</td>\n",
       "    </tr>\n",
       "    <tr>\n",
       "      <th>min</th>\n",
       "      <td>4.164000e+01</td>\n",
       "      <td>-8.784000e+01</td>\n",
       "      <td>4.139000e+01</td>\n",
       "      <td>-8.897000e+01</td>\n",
       "    </tr>\n",
       "    <tr>\n",
       "      <th>25%</th>\n",
       "      <td>4.188155e+01</td>\n",
       "      <td>-8.766000e+01</td>\n",
       "      <td>4.188184e+01</td>\n",
       "      <td>-8.766000e+01</td>\n",
       "    </tr>\n",
       "    <tr>\n",
       "      <th>50%</th>\n",
       "      <td>4.189897e+01</td>\n",
       "      <td>-8.764182e+01</td>\n",
       "      <td>4.189964e+01</td>\n",
       "      <td>-8.764275e+01</td>\n",
       "    </tr>\n",
       "    <tr>\n",
       "      <th>75%</th>\n",
       "      <td>4.192914e+01</td>\n",
       "      <td>-8.762773e+01</td>\n",
       "      <td>4.192920e+01</td>\n",
       "      <td>-8.762775e+01</td>\n",
       "    </tr>\n",
       "    <tr>\n",
       "      <th>max</th>\n",
       "      <td>4.207000e+01</td>\n",
       "      <td>-8.752000e+01</td>\n",
       "      <td>4.216812e+01</td>\n",
       "      <td>-8.749000e+01</td>\n",
       "    </tr>\n",
       "  </tbody>\n",
       "</table>\n",
       "</div>"
      ],
      "text/plain": [
       "          start_lat     start_lng       end_lat       end_lng\n",
       "count  5.595063e+06  5.595063e+06  5.590292e+06  5.590292e+06\n",
       "mean   4.190107e+01 -8.764605e+01  4.190134e+01 -8.764626e+01\n",
       "std    4.608635e-02  2.872111e-02  4.618916e-02  2.889959e-02\n",
       "min    4.164000e+01 -8.784000e+01  4.139000e+01 -8.897000e+01\n",
       "25%    4.188155e+01 -8.766000e+01  4.188184e+01 -8.766000e+01\n",
       "50%    4.189897e+01 -8.764182e+01  4.189964e+01 -8.764275e+01\n",
       "75%    4.192914e+01 -8.762773e+01  4.192920e+01 -8.762775e+01\n",
       "max    4.207000e+01 -8.752000e+01  4.216812e+01 -8.749000e+01"
      ]
     },
     "execution_count": 7,
     "metadata": {},
     "output_type": "execute_result"
    }
   ],
   "source": [
    "data.describe()"
   ]
  },
  {
   "cell_type": "code",
   "execution_count": 8,
   "id": "e0fc44b1",
   "metadata": {},
   "outputs": [
    {
     "data": {
      "text/plain": [
       "ride_id                    0\n",
       "rideable_type              0\n",
       "started_at                 0\n",
       "ended_at                   0\n",
       "start_station_name    690809\n",
       "start_station_id      690806\n",
       "end_station_name      739170\n",
       "end_station_id        739170\n",
       "start_lat                  0\n",
       "start_lng                  0\n",
       "end_lat                 4771\n",
       "end_lng                 4771\n",
       "member_casual              0\n",
       "dtype: int64"
      ]
     },
     "execution_count": 8,
     "metadata": {},
     "output_type": "execute_result"
    }
   ],
   "source": [
    "data.isnull().sum()"
   ]
  },
  {
   "cell_type": "markdown",
   "id": "0e20203c",
   "metadata": {},
   "source": [
    "### I am intereseted to know how much percent of values are null in station details column show that to take informed decision regarding deleting it."
   ]
  },
  {
   "cell_type": "code",
   "execution_count": 9,
   "id": "ce5bb4a6",
   "metadata": {},
   "outputs": [
    {
     "name": "stdout",
     "output_type": "stream",
     "text": [
      "start_station_name:  14.09 % null value present.\n",
      "start_station_id:  14.09 % null value present.\n",
      "end_station_name:  15.22 % null value present.\n",
      "end_station_id:  15.22 % null value present.\n"
     ]
    }
   ],
   "source": [
    "print('start_station_name: ',round((data['start_station_name'].isnull().sum()/data['start_station_name'].count())*100,2),'% null value present.')\n",
    "print('start_station_id: ', round((data['start_station_id'].isnull().sum()/data['start_station_id'].count())*100,2),'% null value present.')\n",
    "print('end_station_name: ', round((data['end_station_name'].isnull().sum()/data['end_station_name'].count())*100,2),'% null value present.')\n",
    "print('end_station_id: ', round((data['end_station_id'].isnull().sum()/data['end_station_id'].count())*100,2),'% null value present.')"
   ]
  },
  {
   "cell_type": "code",
   "execution_count": 10,
   "id": "495b3a60",
   "metadata": {},
   "outputs": [
    {
     "data": {
      "text/plain": [
       "ride_id                0.00\n",
       "rideable_type          0.00\n",
       "started_at             0.00\n",
       "ended_at               0.00\n",
       "start_station_name    14.09\n",
       "start_station_id      14.09\n",
       "end_station_name      15.22\n",
       "end_station_id        15.22\n",
       "start_lat              0.00\n",
       "start_lng              0.00\n",
       "end_lat                0.09\n",
       "end_lng                0.09\n",
       "member_casual          0.00\n",
       "dtype: float64"
      ]
     },
     "execution_count": 10,
     "metadata": {},
     "output_type": "execute_result"
    }
   ],
   "source": [
    "round((data.isnull().sum()/data.count())*100,2)"
   ]
  },
  {
   "cell_type": "markdown",
   "id": "cca16a20",
   "metadata": {},
   "source": [
    "### We must change dates to date time"
   ]
  },
  {
   "cell_type": "code",
   "execution_count": 11,
   "id": "b7ca497c",
   "metadata": {},
   "outputs": [],
   "source": [
    "data['started_at']=pd.to_datetime(data['started_at'])\n",
    "data['ended_at']=pd.to_datetime(data['ended_at'])"
   ]
  },
  {
   "cell_type": "code",
   "execution_count": 12,
   "id": "f02dd14f",
   "metadata": {},
   "outputs": [
    {
     "name": "stdout",
     "output_type": "stream",
     "text": [
      "<class 'pandas.core.frame.DataFrame'>\n",
      "RangeIndex: 5595063 entries, 0 to 5595062\n",
      "Data columns (total 13 columns):\n",
      " #   Column              Dtype         \n",
      "---  ------              -----         \n",
      " 0   ride_id             object        \n",
      " 1   rideable_type       object        \n",
      " 2   started_at          datetime64[ns]\n",
      " 3   ended_at            datetime64[ns]\n",
      " 4   start_station_name  object        \n",
      " 5   start_station_id    object        \n",
      " 6   end_station_name    object        \n",
      " 7   end_station_id      object        \n",
      " 8   start_lat           float64       \n",
      " 9   start_lng           float64       \n",
      " 10  end_lat             float64       \n",
      " 11  end_lng             float64       \n",
      " 12  member_casual       object        \n",
      "dtypes: datetime64[ns](2), float64(4), object(7)\n",
      "memory usage: 554.9+ MB\n"
     ]
    }
   ],
   "source": [
    "data.info()"
   ]
  },
  {
   "cell_type": "code",
   "execution_count": 13,
   "id": "529d534a",
   "metadata": {},
   "outputs": [],
   "source": [
    "data['duration']=data['ended_at']-data['started_at']"
   ]
  },
  {
   "cell_type": "code",
   "execution_count": 14,
   "id": "6dbdb7f4",
   "metadata": {},
   "outputs": [
    {
     "data": {
      "text/html": [
       "<div>\n",
       "<style scoped>\n",
       "    .dataframe tbody tr th:only-of-type {\n",
       "        vertical-align: middle;\n",
       "    }\n",
       "\n",
       "    .dataframe tbody tr th {\n",
       "        vertical-align: top;\n",
       "    }\n",
       "\n",
       "    .dataframe thead th {\n",
       "        text-align: right;\n",
       "    }\n",
       "</style>\n",
       "<table border=\"1\" class=\"dataframe\">\n",
       "  <thead>\n",
       "    <tr style=\"text-align: right;\">\n",
       "      <th></th>\n",
       "      <th>ride_id</th>\n",
       "      <th>rideable_type</th>\n",
       "      <th>started_at</th>\n",
       "      <th>ended_at</th>\n",
       "      <th>start_station_name</th>\n",
       "      <th>start_station_id</th>\n",
       "      <th>end_station_name</th>\n",
       "      <th>end_station_id</th>\n",
       "      <th>start_lat</th>\n",
       "      <th>start_lng</th>\n",
       "      <th>end_lat</th>\n",
       "      <th>end_lng</th>\n",
       "      <th>member_casual</th>\n",
       "      <th>duration</th>\n",
       "    </tr>\n",
       "  </thead>\n",
       "  <tbody>\n",
       "    <tr>\n",
       "      <th>0</th>\n",
       "      <td>E19E6F1B8D4C42ED</td>\n",
       "      <td>electric_bike</td>\n",
       "      <td>2021-01-23 16:14:19</td>\n",
       "      <td>2021-01-23 16:24:44</td>\n",
       "      <td>California Ave &amp; Cortez St</td>\n",
       "      <td>17660</td>\n",
       "      <td>NaN</td>\n",
       "      <td>NaN</td>\n",
       "      <td>41.900341</td>\n",
       "      <td>-87.696743</td>\n",
       "      <td>41.89</td>\n",
       "      <td>-87.72</td>\n",
       "      <td>member</td>\n",
       "      <td>0 days 00:10:25</td>\n",
       "    </tr>\n",
       "    <tr>\n",
       "      <th>1</th>\n",
       "      <td>DC88F20C2C55F27F</td>\n",
       "      <td>electric_bike</td>\n",
       "      <td>2021-01-27 18:43:08</td>\n",
       "      <td>2021-01-27 18:47:12</td>\n",
       "      <td>California Ave &amp; Cortez St</td>\n",
       "      <td>17660</td>\n",
       "      <td>NaN</td>\n",
       "      <td>NaN</td>\n",
       "      <td>41.900333</td>\n",
       "      <td>-87.696707</td>\n",
       "      <td>41.90</td>\n",
       "      <td>-87.69</td>\n",
       "      <td>member</td>\n",
       "      <td>0 days 00:04:04</td>\n",
       "    </tr>\n",
       "  </tbody>\n",
       "</table>\n",
       "</div>"
      ],
      "text/plain": [
       "            ride_id  rideable_type          started_at            ended_at  \\\n",
       "0  E19E6F1B8D4C42ED  electric_bike 2021-01-23 16:14:19 2021-01-23 16:24:44   \n",
       "1  DC88F20C2C55F27F  electric_bike 2021-01-27 18:43:08 2021-01-27 18:47:12   \n",
       "\n",
       "           start_station_name start_station_id end_station_name  \\\n",
       "0  California Ave & Cortez St            17660              NaN   \n",
       "1  California Ave & Cortez St            17660              NaN   \n",
       "\n",
       "  end_station_id  start_lat  start_lng  end_lat  end_lng member_casual  \\\n",
       "0            NaN  41.900341 -87.696743    41.89   -87.72        member   \n",
       "1            NaN  41.900333 -87.696707    41.90   -87.69        member   \n",
       "\n",
       "         duration  \n",
       "0 0 days 00:10:25  \n",
       "1 0 days 00:04:04  "
      ]
     },
     "execution_count": 14,
     "metadata": {},
     "output_type": "execute_result"
    }
   ],
   "source": [
    "data.head(2)"
   ]
  },
  {
   "cell_type": "code",
   "execution_count": 15,
   "id": "614634a3",
   "metadata": {},
   "outputs": [],
   "source": [
    "data['duration']=data['duration']/np.timedelta64(1,'m') # direct minute conversion not possible so we need to use np.timedelta64"
   ]
  },
  {
   "cell_type": "code",
   "execution_count": 16,
   "id": "db8eb025",
   "metadata": {},
   "outputs": [],
   "source": [
    "data['duration']=round(data['duration'],2)"
   ]
  },
  {
   "cell_type": "code",
   "execution_count": 17,
   "id": "2953a03c",
   "metadata": {},
   "outputs": [
    {
     "data": {
      "text/html": [
       "<div>\n",
       "<style scoped>\n",
       "    .dataframe tbody tr th:only-of-type {\n",
       "        vertical-align: middle;\n",
       "    }\n",
       "\n",
       "    .dataframe tbody tr th {\n",
       "        vertical-align: top;\n",
       "    }\n",
       "\n",
       "    .dataframe thead th {\n",
       "        text-align: right;\n",
       "    }\n",
       "</style>\n",
       "<table border=\"1\" class=\"dataframe\">\n",
       "  <thead>\n",
       "    <tr style=\"text-align: right;\">\n",
       "      <th></th>\n",
       "      <th>ride_id</th>\n",
       "      <th>rideable_type</th>\n",
       "      <th>started_at</th>\n",
       "      <th>ended_at</th>\n",
       "      <th>start_station_name</th>\n",
       "      <th>start_station_id</th>\n",
       "      <th>end_station_name</th>\n",
       "      <th>end_station_id</th>\n",
       "      <th>start_lat</th>\n",
       "      <th>start_lng</th>\n",
       "      <th>end_lat</th>\n",
       "      <th>end_lng</th>\n",
       "      <th>member_casual</th>\n",
       "      <th>duration</th>\n",
       "    </tr>\n",
       "  </thead>\n",
       "  <tbody>\n",
       "    <tr>\n",
       "      <th>0</th>\n",
       "      <td>E19E6F1B8D4C42ED</td>\n",
       "      <td>electric_bike</td>\n",
       "      <td>2021-01-23 16:14:19</td>\n",
       "      <td>2021-01-23 16:24:44</td>\n",
       "      <td>California Ave &amp; Cortez St</td>\n",
       "      <td>17660</td>\n",
       "      <td>NaN</td>\n",
       "      <td>NaN</td>\n",
       "      <td>41.900341</td>\n",
       "      <td>-87.696743</td>\n",
       "      <td>41.89</td>\n",
       "      <td>-87.72</td>\n",
       "      <td>member</td>\n",
       "      <td>10.42</td>\n",
       "    </tr>\n",
       "    <tr>\n",
       "      <th>1</th>\n",
       "      <td>DC88F20C2C55F27F</td>\n",
       "      <td>electric_bike</td>\n",
       "      <td>2021-01-27 18:43:08</td>\n",
       "      <td>2021-01-27 18:47:12</td>\n",
       "      <td>California Ave &amp; Cortez St</td>\n",
       "      <td>17660</td>\n",
       "      <td>NaN</td>\n",
       "      <td>NaN</td>\n",
       "      <td>41.900333</td>\n",
       "      <td>-87.696707</td>\n",
       "      <td>41.90</td>\n",
       "      <td>-87.69</td>\n",
       "      <td>member</td>\n",
       "      <td>4.07</td>\n",
       "    </tr>\n",
       "  </tbody>\n",
       "</table>\n",
       "</div>"
      ],
      "text/plain": [
       "            ride_id  rideable_type          started_at            ended_at  \\\n",
       "0  E19E6F1B8D4C42ED  electric_bike 2021-01-23 16:14:19 2021-01-23 16:24:44   \n",
       "1  DC88F20C2C55F27F  electric_bike 2021-01-27 18:43:08 2021-01-27 18:47:12   \n",
       "\n",
       "           start_station_name start_station_id end_station_name  \\\n",
       "0  California Ave & Cortez St            17660              NaN   \n",
       "1  California Ave & Cortez St            17660              NaN   \n",
       "\n",
       "  end_station_id  start_lat  start_lng  end_lat  end_lng member_casual  \\\n",
       "0            NaN  41.900341 -87.696743    41.89   -87.72        member   \n",
       "1            NaN  41.900333 -87.696707    41.90   -87.69        member   \n",
       "\n",
       "   duration  \n",
       "0     10.42  \n",
       "1      4.07  "
      ]
     },
     "execution_count": 17,
     "metadata": {},
     "output_type": "execute_result"
    }
   ],
   "source": [
    "data.head(2)"
   ]
  },
  {
   "cell_type": "code",
   "execution_count": 18,
   "id": "c323d32a",
   "metadata": {},
   "outputs": [],
   "source": [
    "data['day_of_week']=data['started_at'].dt.dayofweek\n",
    "data['month']=data['started_at'].dt.month\n",
    "data['day_of_month']=data['started_at'].dt.day\n",
    "data['hour_of_day']=data['started_at'].dt.hour"
   ]
  },
  {
   "cell_type": "code",
   "execution_count": 19,
   "id": "71a0f575",
   "metadata": {},
   "outputs": [
    {
     "data": {
      "text/plain": [
       "Index(['ride_id', 'rideable_type', 'started_at', 'ended_at',\n",
       "       'start_station_name', 'start_station_id', 'end_station_name',\n",
       "       'end_station_id', 'start_lat', 'start_lng', 'end_lat', 'end_lng',\n",
       "       'member_casual', 'duration', 'day_of_week', 'month', 'day_of_month',\n",
       "       'hour_of_day'],\n",
       "      dtype='object')"
      ]
     },
     "execution_count": 19,
     "metadata": {},
     "output_type": "execute_result"
    }
   ],
   "source": [
    "data.columns"
   ]
  },
  {
   "cell_type": "markdown",
   "id": "87c2ec8e",
   "metadata": {},
   "source": [
    "#### We can't do much analysis by lat and lng columns so it is better to drop"
   ]
  },
  {
   "cell_type": "code",
   "execution_count": 20,
   "id": "06ce55a3",
   "metadata": {},
   "outputs": [],
   "source": [
    "data.drop('start_lat',axis=1,inplace=True)\n",
    "data.drop('end_lat',axis=1,inplace=True)\n",
    "data.drop('start_lng',axis=1,inplace=True)\n",
    "data.drop('end_lng',axis=1,inplace=True)"
   ]
  },
  {
   "cell_type": "code",
   "execution_count": 21,
   "id": "10e57282",
   "metadata": {},
   "outputs": [
    {
     "data": {
      "text/html": [
       "<div>\n",
       "<style scoped>\n",
       "    .dataframe tbody tr th:only-of-type {\n",
       "        vertical-align: middle;\n",
       "    }\n",
       "\n",
       "    .dataframe tbody tr th {\n",
       "        vertical-align: top;\n",
       "    }\n",
       "\n",
       "    .dataframe thead th {\n",
       "        text-align: right;\n",
       "    }\n",
       "</style>\n",
       "<table border=\"1\" class=\"dataframe\">\n",
       "  <thead>\n",
       "    <tr style=\"text-align: right;\">\n",
       "      <th></th>\n",
       "      <th>ride_id</th>\n",
       "      <th>rideable_type</th>\n",
       "      <th>started_at</th>\n",
       "      <th>ended_at</th>\n",
       "      <th>start_station_name</th>\n",
       "      <th>start_station_id</th>\n",
       "      <th>end_station_name</th>\n",
       "      <th>end_station_id</th>\n",
       "      <th>member_casual</th>\n",
       "      <th>duration</th>\n",
       "      <th>day_of_week</th>\n",
       "      <th>month</th>\n",
       "      <th>day_of_month</th>\n",
       "      <th>hour_of_day</th>\n",
       "    </tr>\n",
       "  </thead>\n",
       "  <tbody>\n",
       "    <tr>\n",
       "      <th>0</th>\n",
       "      <td>E19E6F1B8D4C42ED</td>\n",
       "      <td>electric_bike</td>\n",
       "      <td>2021-01-23 16:14:19</td>\n",
       "      <td>2021-01-23 16:24:44</td>\n",
       "      <td>California Ave &amp; Cortez St</td>\n",
       "      <td>17660</td>\n",
       "      <td>NaN</td>\n",
       "      <td>NaN</td>\n",
       "      <td>member</td>\n",
       "      <td>10.42</td>\n",
       "      <td>5</td>\n",
       "      <td>1</td>\n",
       "      <td>23</td>\n",
       "      <td>16</td>\n",
       "    </tr>\n",
       "    <tr>\n",
       "      <th>1</th>\n",
       "      <td>DC88F20C2C55F27F</td>\n",
       "      <td>electric_bike</td>\n",
       "      <td>2021-01-27 18:43:08</td>\n",
       "      <td>2021-01-27 18:47:12</td>\n",
       "      <td>California Ave &amp; Cortez St</td>\n",
       "      <td>17660</td>\n",
       "      <td>NaN</td>\n",
       "      <td>NaN</td>\n",
       "      <td>member</td>\n",
       "      <td>4.07</td>\n",
       "      <td>2</td>\n",
       "      <td>1</td>\n",
       "      <td>27</td>\n",
       "      <td>18</td>\n",
       "    </tr>\n",
       "  </tbody>\n",
       "</table>\n",
       "</div>"
      ],
      "text/plain": [
       "            ride_id  rideable_type          started_at            ended_at  \\\n",
       "0  E19E6F1B8D4C42ED  electric_bike 2021-01-23 16:14:19 2021-01-23 16:24:44   \n",
       "1  DC88F20C2C55F27F  electric_bike 2021-01-27 18:43:08 2021-01-27 18:47:12   \n",
       "\n",
       "           start_station_name start_station_id end_station_name  \\\n",
       "0  California Ave & Cortez St            17660              NaN   \n",
       "1  California Ave & Cortez St            17660              NaN   \n",
       "\n",
       "  end_station_id member_casual  duration  day_of_week  month  day_of_month  \\\n",
       "0            NaN        member     10.42            5      1            23   \n",
       "1            NaN        member      4.07            2      1            27   \n",
       "\n",
       "   hour_of_day  \n",
       "0           16  \n",
       "1           18  "
      ]
     },
     "execution_count": 21,
     "metadata": {},
     "output_type": "execute_result"
    }
   ],
   "source": [
    "data.head(2)"
   ]
  },
  {
   "cell_type": "code",
   "execution_count": 22,
   "id": "e27225f3",
   "metadata": {},
   "outputs": [
    {
     "data": {
      "text/plain": [
       "13022                             83390\n",
       "LF-005                            54020\n",
       "13042                             44834\n",
       "13300                             44312\n",
       "TA1308000050                      43850\n",
       "                                  ...  \n",
       "Throop/Hastings Mobile Station        1\n",
       "20248.0                               1\n",
       "416                                   1\n",
       "20999                                 1\n",
       "401                                   1\n",
       "Name: end_station_id, Length: 832, dtype: int64"
      ]
     },
     "execution_count": 22,
     "metadata": {},
     "output_type": "execute_result"
    }
   ],
   "source": [
    "data['end_station_id'].value_counts()"
   ]
  },
  {
   "cell_type": "code",
   "execution_count": 23,
   "id": "ae1e1dde",
   "metadata": {},
   "outputs": [
    {
     "data": {
      "text/plain": [
       "13022           82715\n",
       "LF-005          47925\n",
       "13300           46149\n",
       "13042           44348\n",
       "TA1308000050    43610\n",
       "                ...  \n",
       "437                 1\n",
       "20248.0             1\n",
       "20999               1\n",
       "20258.0             1\n",
       "20111               1\n",
       "Name: start_station_id, Length: 834, dtype: int64"
      ]
     },
     "execution_count": 23,
     "metadata": {},
     "output_type": "execute_result"
    }
   ],
   "source": [
    "data['start_station_id'].value_counts()"
   ]
  },
  {
   "cell_type": "markdown",
   "id": "9ef37c32",
   "metadata": {},
   "source": [
    "### We cant do much with station ids, its better to drop them"
   ]
  },
  {
   "cell_type": "code",
   "execution_count": 24,
   "id": "93644b12",
   "metadata": {},
   "outputs": [],
   "source": [
    "data.drop(['start_station_id','end_station_id'],axis=1,inplace=True)"
   ]
  },
  {
   "cell_type": "code",
   "execution_count": 25,
   "id": "19457ec8",
   "metadata": {},
   "outputs": [
    {
     "data": {
      "text/plain": [
       "5595063"
      ]
     },
     "execution_count": 25,
     "metadata": {},
     "output_type": "execute_result"
    }
   ],
   "source": [
    "data['ride_id'].nunique()"
   ]
  },
  {
   "cell_type": "markdown",
   "id": "f2b0c245",
   "metadata": {},
   "source": [
    "### We cant do much with ride_id its better to drop them"
   ]
  },
  {
   "cell_type": "code",
   "execution_count": 26,
   "id": "3e2efd07",
   "metadata": {},
   "outputs": [],
   "source": [
    "data.drop('ride_id',axis=1,inplace=True)"
   ]
  },
  {
   "cell_type": "code",
   "execution_count": 27,
   "id": "f0912f4c",
   "metadata": {},
   "outputs": [
    {
     "data": {
      "text/html": [
       "<div>\n",
       "<style scoped>\n",
       "    .dataframe tbody tr th:only-of-type {\n",
       "        vertical-align: middle;\n",
       "    }\n",
       "\n",
       "    .dataframe tbody tr th {\n",
       "        vertical-align: top;\n",
       "    }\n",
       "\n",
       "    .dataframe thead th {\n",
       "        text-align: right;\n",
       "    }\n",
       "</style>\n",
       "<table border=\"1\" class=\"dataframe\">\n",
       "  <thead>\n",
       "    <tr style=\"text-align: right;\">\n",
       "      <th></th>\n",
       "      <th>rideable_type</th>\n",
       "      <th>started_at</th>\n",
       "      <th>ended_at</th>\n",
       "      <th>start_station_name</th>\n",
       "      <th>end_station_name</th>\n",
       "      <th>member_casual</th>\n",
       "      <th>duration</th>\n",
       "      <th>day_of_week</th>\n",
       "      <th>month</th>\n",
       "      <th>day_of_month</th>\n",
       "      <th>hour_of_day</th>\n",
       "    </tr>\n",
       "  </thead>\n",
       "  <tbody>\n",
       "    <tr>\n",
       "      <th>0</th>\n",
       "      <td>electric_bike</td>\n",
       "      <td>2021-01-23 16:14:19</td>\n",
       "      <td>2021-01-23 16:24:44</td>\n",
       "      <td>California Ave &amp; Cortez St</td>\n",
       "      <td>NaN</td>\n",
       "      <td>member</td>\n",
       "      <td>10.42</td>\n",
       "      <td>5</td>\n",
       "      <td>1</td>\n",
       "      <td>23</td>\n",
       "      <td>16</td>\n",
       "    </tr>\n",
       "    <tr>\n",
       "      <th>1</th>\n",
       "      <td>electric_bike</td>\n",
       "      <td>2021-01-27 18:43:08</td>\n",
       "      <td>2021-01-27 18:47:12</td>\n",
       "      <td>California Ave &amp; Cortez St</td>\n",
       "      <td>NaN</td>\n",
       "      <td>member</td>\n",
       "      <td>4.07</td>\n",
       "      <td>2</td>\n",
       "      <td>1</td>\n",
       "      <td>27</td>\n",
       "      <td>18</td>\n",
       "    </tr>\n",
       "  </tbody>\n",
       "</table>\n",
       "</div>"
      ],
      "text/plain": [
       "   rideable_type          started_at            ended_at  \\\n",
       "0  electric_bike 2021-01-23 16:14:19 2021-01-23 16:24:44   \n",
       "1  electric_bike 2021-01-27 18:43:08 2021-01-27 18:47:12   \n",
       "\n",
       "           start_station_name end_station_name member_casual  duration  \\\n",
       "0  California Ave & Cortez St              NaN        member     10.42   \n",
       "1  California Ave & Cortez St              NaN        member      4.07   \n",
       "\n",
       "   day_of_week  month  day_of_month  hour_of_day  \n",
       "0            5      1            23           16  \n",
       "1            2      1            27           18  "
      ]
     },
     "execution_count": 27,
     "metadata": {},
     "output_type": "execute_result"
    }
   ],
   "source": [
    "data.head(2)"
   ]
  },
  {
   "cell_type": "code",
   "execution_count": 28,
   "id": "4b85b975",
   "metadata": {},
   "outputs": [
    {
     "data": {
      "text/plain": [
       "rideable_type          0.000000\n",
       "started_at             0.000000\n",
       "ended_at               0.000000\n",
       "start_station_name    14.085914\n",
       "end_station_name      15.222123\n",
       "member_casual          0.000000\n",
       "duration               0.000000\n",
       "day_of_week            0.000000\n",
       "month                  0.000000\n",
       "day_of_month           0.000000\n",
       "hour_of_day            0.000000\n",
       "dtype: float64"
      ]
     },
     "execution_count": 28,
     "metadata": {},
     "output_type": "execute_result"
    }
   ],
   "source": [
    "(data.isnull().sum()/data.count())*100"
   ]
  },
  {
   "cell_type": "code",
   "execution_count": 29,
   "id": "c5755f68",
   "metadata": {},
   "outputs": [
    {
     "data": {
      "text/plain": [
       "15.716036777170485"
      ]
     },
     "execution_count": 29,
     "metadata": {},
     "output_type": "execute_result"
    }
   ],
   "source": [
    "data[data['start_station_name'].isnull()]['duration'].mean()"
   ]
  },
  {
   "cell_type": "code",
   "execution_count": 30,
   "id": "41b58bcd",
   "metadata": {},
   "outputs": [
    {
     "data": {
      "text/plain": [
       "member    373123\n",
       "casual    317686\n",
       "Name: member_casual, dtype: int64"
      ]
     },
     "execution_count": 30,
     "metadata": {},
     "output_type": "execute_result"
    }
   ],
   "source": [
    "data[data['start_station_name'].isnull()]['member_casual'].value_counts() "
   ]
  },
  {
   "cell_type": "code",
   "execution_count": 31,
   "id": "c88c80e5",
   "metadata": {},
   "outputs": [
    {
     "data": {
      "text/plain": [
       "24.596587740303946"
      ]
     },
     "execution_count": 31,
     "metadata": {},
     "output_type": "execute_result"
    }
   ],
   "source": [
    "data[data['end_station_name'].isnull()]['duration'].mean()"
   ]
  },
  {
   "cell_type": "code",
   "execution_count": 32,
   "id": "1773538e",
   "metadata": {},
   "outputs": [
    {
     "data": {
      "text/plain": [
       "member    374082\n",
       "casual    365088\n",
       "Name: member_casual, dtype: int64"
      ]
     },
     "execution_count": 32,
     "metadata": {},
     "output_type": "execute_result"
    }
   ],
   "source": [
    "data[data['end_station_name'].isnull()]['member_casual'].value_counts()"
   ]
  },
  {
   "cell_type": "code",
   "execution_count": 33,
   "id": "a362a8c5",
   "metadata": {},
   "outputs": [
    {
     "data": {
      "text/plain": [
       "21.93534367888295"
      ]
     },
     "execution_count": 33,
     "metadata": {},
     "output_type": "execute_result"
    }
   ],
   "source": [
    "data['duration'].mean()"
   ]
  },
  {
   "cell_type": "code",
   "execution_count": 34,
   "id": "b09a4eed",
   "metadata": {},
   "outputs": [
    {
     "data": {
      "text/plain": [
       "member    3066058\n",
       "casual    2529005\n",
       "Name: member_casual, dtype: int64"
      ]
     },
     "execution_count": 34,
     "metadata": {},
     "output_type": "execute_result"
    }
   ],
   "source": [
    "data['member_casual'].value_counts()"
   ]
  },
  {
   "cell_type": "markdown",
   "id": "143a3510",
   "metadata": {},
   "source": [
    "#### data is equally distributed for null it would not give much difference in analysis even if we delete null values"
   ]
  },
  {
   "cell_type": "code",
   "execution_count": 35,
   "id": "1a96bb3b",
   "metadata": {},
   "outputs": [],
   "source": [
    "data.dropna(inplace=True)"
   ]
  },
  {
   "cell_type": "code",
   "execution_count": 36,
   "id": "3614b8e5",
   "metadata": {},
   "outputs": [],
   "source": [
    "data.drop_duplicates(inplace=True)"
   ]
  },
  {
   "cell_type": "code",
   "execution_count": 37,
   "id": "db57d457",
   "metadata": {},
   "outputs": [
    {
     "data": {
      "text/plain": [
       "rideable_type         0.0\n",
       "started_at            0.0\n",
       "ended_at              0.0\n",
       "start_station_name    0.0\n",
       "end_station_name      0.0\n",
       "member_casual         0.0\n",
       "duration              0.0\n",
       "day_of_week           0.0\n",
       "month                 0.0\n",
       "day_of_month          0.0\n",
       "hour_of_day           0.0\n",
       "dtype: float64"
      ]
     },
     "execution_count": 37,
     "metadata": {},
     "output_type": "execute_result"
    }
   ],
   "source": [
    "(data.isnull().sum()/data.count())*100"
   ]
  },
  {
   "cell_type": "code",
   "execution_count": 38,
   "id": "caaf1ba0",
   "metadata": {},
   "outputs": [
    {
     "name": "stdout",
     "output_type": "stream",
     "text": [
      "<class 'pandas.core.frame.DataFrame'>\n",
      "Int64Index: 4587761 entries, 9 to 5595062\n",
      "Data columns (total 11 columns):\n",
      " #   Column              Dtype         \n",
      "---  ------              -----         \n",
      " 0   rideable_type       object        \n",
      " 1   started_at          datetime64[ns]\n",
      " 2   ended_at            datetime64[ns]\n",
      " 3   start_station_name  object        \n",
      " 4   end_station_name    object        \n",
      " 5   member_casual       object        \n",
      " 6   duration            float64       \n",
      " 7   day_of_week         int64         \n",
      " 8   month               int64         \n",
      " 9   day_of_month        int64         \n",
      " 10  hour_of_day         int64         \n",
      "dtypes: datetime64[ns](2), float64(1), int64(4), object(4)\n",
      "memory usage: 420.0+ MB\n"
     ]
    }
   ],
   "source": [
    "data.info()"
   ]
  },
  {
   "cell_type": "code",
   "execution_count": 39,
   "id": "ed28a646",
   "metadata": {},
   "outputs": [
    {
     "data": {
      "text/plain": [
       "21.81049754117396"
      ]
     },
     "execution_count": 39,
     "metadata": {},
     "output_type": "execute_result"
    }
   ],
   "source": [
    "data['duration'].mean()"
   ]
  },
  {
   "cell_type": "code",
   "execution_count": 40,
   "id": "bf1b2c11",
   "metadata": {},
   "outputs": [
    {
     "data": {
      "text/plain": [
       "member    2539707\n",
       "casual    2048054\n",
       "Name: member_casual, dtype: int64"
      ]
     },
     "execution_count": 40,
     "metadata": {},
     "output_type": "execute_result"
    }
   ],
   "source": [
    "data['member_casual'].value_counts()"
   ]
  },
  {
   "cell_type": "markdown",
   "id": "a2d2ece9",
   "metadata": {},
   "source": [
    "##### Before data cleaning data, no of rows-5595063 \n",
    "##### After data cleaning data, no of rows-4587761 \n",
    "##### We lost almost 1 million rows that is huge number\n",
    "##### But average duration doesnt change after cleaning"
   ]
  },
  {
   "cell_type": "markdown",
   "id": "bb1d6fca",
   "metadata": {},
   "source": [
    "## Top starting Point"
   ]
  },
  {
   "cell_type": "code",
   "execution_count": 41,
   "id": "161dad95",
   "metadata": {},
   "outputs": [
    {
     "data": {
      "text/html": [
       "<div>\n",
       "<style scoped>\n",
       "    .dataframe tbody tr th:only-of-type {\n",
       "        vertical-align: middle;\n",
       "    }\n",
       "\n",
       "    .dataframe tbody tr th {\n",
       "        vertical-align: top;\n",
       "    }\n",
       "\n",
       "    .dataframe thead th {\n",
       "        text-align: right;\n",
       "    }\n",
       "</style>\n",
       "<table border=\"1\" class=\"dataframe\">\n",
       "  <thead>\n",
       "    <tr style=\"text-align: right;\">\n",
       "      <th></th>\n",
       "      <th>Station_name</th>\n",
       "      <th>Count_of_ride</th>\n",
       "    </tr>\n",
       "  </thead>\n",
       "  <tbody>\n",
       "    <tr>\n",
       "      <th>0</th>\n",
       "      <td>Streeter Dr &amp; Grand Ave</td>\n",
       "      <td>80304</td>\n",
       "    </tr>\n",
       "    <tr>\n",
       "      <th>1</th>\n",
       "      <td>Michigan Ave &amp; Oak St</td>\n",
       "      <td>42765</td>\n",
       "    </tr>\n",
       "    <tr>\n",
       "      <th>2</th>\n",
       "      <td>Wells St &amp; Concord Ln</td>\n",
       "      <td>41640</td>\n",
       "    </tr>\n",
       "    <tr>\n",
       "      <th>3</th>\n",
       "      <td>Millennium Park</td>\n",
       "      <td>40472</td>\n",
       "    </tr>\n",
       "    <tr>\n",
       "      <th>4</th>\n",
       "      <td>Clark St &amp; Elm St</td>\n",
       "      <td>39497</td>\n",
       "    </tr>\n",
       "    <tr>\n",
       "      <th>5</th>\n",
       "      <td>Wells St &amp; Elm St</td>\n",
       "      <td>36047</td>\n",
       "    </tr>\n",
       "    <tr>\n",
       "      <th>6</th>\n",
       "      <td>Theater on the Lake</td>\n",
       "      <td>35796</td>\n",
       "    </tr>\n",
       "    <tr>\n",
       "      <th>7</th>\n",
       "      <td>Kingsbury St &amp; Kinzie St</td>\n",
       "      <td>32152</td>\n",
       "    </tr>\n",
       "    <tr>\n",
       "      <th>8</th>\n",
       "      <td>Clark St &amp; Lincoln Ave</td>\n",
       "      <td>32010</td>\n",
       "    </tr>\n",
       "    <tr>\n",
       "      <th>9</th>\n",
       "      <td>Clark St &amp; Armitage Ave</td>\n",
       "      <td>31477</td>\n",
       "    </tr>\n",
       "  </tbody>\n",
       "</table>\n",
       "</div>"
      ],
      "text/plain": [
       "               Station_name  Count_of_ride\n",
       "0   Streeter Dr & Grand Ave          80304\n",
       "1     Michigan Ave & Oak St          42765\n",
       "2     Wells St & Concord Ln          41640\n",
       "3           Millennium Park          40472\n",
       "4         Clark St & Elm St          39497\n",
       "5         Wells St & Elm St          36047\n",
       "6       Theater on the Lake          35796\n",
       "7  Kingsbury St & Kinzie St          32152\n",
       "8    Clark St & Lincoln Ave          32010\n",
       "9   Clark St & Armitage Ave          31477"
      ]
     },
     "execution_count": 41,
     "metadata": {},
     "output_type": "execute_result"
    }
   ],
   "source": [
    "top_start=pd.DataFrame(data['start_station_name'].value_counts().head(10)).reset_index(level=0).rename(columns={'index':'Station_name', 'start_station_name':'Count_of_ride'})\n",
    "top_start"
   ]
  },
  {
   "cell_type": "markdown",
   "id": "a92be142",
   "metadata": {},
   "source": [
    "## Top ending point"
   ]
  },
  {
   "cell_type": "code",
   "execution_count": 42,
   "id": "268bc4fa",
   "metadata": {},
   "outputs": [
    {
     "data": {
      "text/html": [
       "<div>\n",
       "<style scoped>\n",
       "    .dataframe tbody tr th:only-of-type {\n",
       "        vertical-align: middle;\n",
       "    }\n",
       "\n",
       "    .dataframe tbody tr th {\n",
       "        vertical-align: top;\n",
       "    }\n",
       "\n",
       "    .dataframe thead th {\n",
       "        text-align: right;\n",
       "    }\n",
       "</style>\n",
       "<table border=\"1\" class=\"dataframe\">\n",
       "  <thead>\n",
       "    <tr style=\"text-align: right;\">\n",
       "      <th></th>\n",
       "      <th>Station_name</th>\n",
       "      <th>Count_of_ride</th>\n",
       "    </tr>\n",
       "  </thead>\n",
       "  <tbody>\n",
       "    <tr>\n",
       "      <th>0</th>\n",
       "      <td>Streeter Dr &amp; Grand Ave</td>\n",
       "      <td>81786</td>\n",
       "    </tr>\n",
       "    <tr>\n",
       "      <th>1</th>\n",
       "      <td>Michigan Ave &amp; Oak St</td>\n",
       "      <td>43501</td>\n",
       "    </tr>\n",
       "    <tr>\n",
       "      <th>2</th>\n",
       "      <td>Wells St &amp; Concord Ln</td>\n",
       "      <td>42024</td>\n",
       "    </tr>\n",
       "    <tr>\n",
       "      <th>3</th>\n",
       "      <td>Millennium Park</td>\n",
       "      <td>41749</td>\n",
       "    </tr>\n",
       "    <tr>\n",
       "      <th>4</th>\n",
       "      <td>Clark St &amp; Elm St</td>\n",
       "      <td>38933</td>\n",
       "    </tr>\n",
       "    <tr>\n",
       "      <th>5</th>\n",
       "      <td>Theater on the Lake</td>\n",
       "      <td>36274</td>\n",
       "    </tr>\n",
       "    <tr>\n",
       "      <th>6</th>\n",
       "      <td>Wells St &amp; Elm St</td>\n",
       "      <td>35890</td>\n",
       "    </tr>\n",
       "    <tr>\n",
       "      <th>7</th>\n",
       "      <td>Clark St &amp; Lincoln Ave</td>\n",
       "      <td>32004</td>\n",
       "    </tr>\n",
       "    <tr>\n",
       "      <th>8</th>\n",
       "      <td>Wabash Ave &amp; Grand Ave</td>\n",
       "      <td>31911</td>\n",
       "    </tr>\n",
       "    <tr>\n",
       "      <th>9</th>\n",
       "      <td>Kingsbury St &amp; Kinzie St</td>\n",
       "      <td>31774</td>\n",
       "    </tr>\n",
       "  </tbody>\n",
       "</table>\n",
       "</div>"
      ],
      "text/plain": [
       "               Station_name  Count_of_ride\n",
       "0   Streeter Dr & Grand Ave          81786\n",
       "1     Michigan Ave & Oak St          43501\n",
       "2     Wells St & Concord Ln          42024\n",
       "3           Millennium Park          41749\n",
       "4         Clark St & Elm St          38933\n",
       "5       Theater on the Lake          36274\n",
       "6         Wells St & Elm St          35890\n",
       "7    Clark St & Lincoln Ave          32004\n",
       "8    Wabash Ave & Grand Ave          31911\n",
       "9  Kingsbury St & Kinzie St          31774"
      ]
     },
     "execution_count": 42,
     "metadata": {},
     "output_type": "execute_result"
    }
   ],
   "source": [
    "top_end=pd.DataFrame(data['end_station_name'].value_counts().head(10)).reset_index(level=0).rename(columns={'index':'Station_name', 'end_station_name':'Count_of_ride'})\n",
    "top_end"
   ]
  },
  {
   "cell_type": "markdown",
   "id": "522f57e6",
   "metadata": {},
   "source": [
    "### Now some eda for duration"
   ]
  },
  {
   "cell_type": "code",
   "execution_count": 43,
   "id": "9b27ffa7",
   "metadata": {},
   "outputs": [
    {
     "name": "stdout",
     "output_type": "stream",
     "text": [
      "mean 21.81049754117396\n",
      "max 55944.15\n",
      "min -55.9\n"
     ]
    }
   ],
   "source": [
    "print(\"mean\",data['duration'].mean())\n",
    "print(\"max\",data['duration'].max())\n",
    "print(\"min\",data['duration'].min())"
   ]
  },
  {
   "cell_type": "code",
   "execution_count": 44,
   "id": "ec6d84dc",
   "metadata": {},
   "outputs": [
    {
     "data": {
      "text/html": [
       "<div>\n",
       "<style scoped>\n",
       "    .dataframe tbody tr th:only-of-type {\n",
       "        vertical-align: middle;\n",
       "    }\n",
       "\n",
       "    .dataframe tbody tr th {\n",
       "        vertical-align: top;\n",
       "    }\n",
       "\n",
       "    .dataframe thead th {\n",
       "        text-align: right;\n",
       "    }\n",
       "</style>\n",
       "<table border=\"1\" class=\"dataframe\">\n",
       "  <thead>\n",
       "    <tr style=\"text-align: right;\">\n",
       "      <th></th>\n",
       "      <th>rideable_type</th>\n",
       "      <th>started_at</th>\n",
       "      <th>ended_at</th>\n",
       "      <th>start_station_name</th>\n",
       "      <th>end_station_name</th>\n",
       "      <th>member_casual</th>\n",
       "      <th>duration</th>\n",
       "      <th>day_of_week</th>\n",
       "      <th>month</th>\n",
       "      <th>day_of_month</th>\n",
       "      <th>hour_of_day</th>\n",
       "    </tr>\n",
       "  </thead>\n",
       "  <tbody>\n",
       "    <tr>\n",
       "      <th>185773</th>\n",
       "      <td>electric_bike</td>\n",
       "      <td>2021-03-29 15:41:21</td>\n",
       "      <td>2021-03-29 15:41:20</td>\n",
       "      <td>Ashland Ave &amp; Belle Plaine Ave</td>\n",
       "      <td>Ashland Ave &amp; Belle Plaine Ave</td>\n",
       "      <td>member</td>\n",
       "      <td>-0.02</td>\n",
       "      <td>0</td>\n",
       "      <td>3</td>\n",
       "      <td>29</td>\n",
       "      <td>15</td>\n",
       "    </tr>\n",
       "    <tr>\n",
       "      <th>267286</th>\n",
       "      <td>classic_bike</td>\n",
       "      <td>2021-03-13 18:02:58</td>\n",
       "      <td>2021-03-13 18:02:57</td>\n",
       "      <td>Dayton St &amp; North Ave</td>\n",
       "      <td>Dayton St &amp; North Ave</td>\n",
       "      <td>casual</td>\n",
       "      <td>-0.02</td>\n",
       "      <td>5</td>\n",
       "      <td>3</td>\n",
       "      <td>13</td>\n",
       "      <td>18</td>\n",
       "    </tr>\n",
       "  </tbody>\n",
       "</table>\n",
       "</div>"
      ],
      "text/plain": [
       "        rideable_type          started_at            ended_at  \\\n",
       "185773  electric_bike 2021-03-29 15:41:21 2021-03-29 15:41:20   \n",
       "267286   classic_bike 2021-03-13 18:02:58 2021-03-13 18:02:57   \n",
       "\n",
       "                    start_station_name                end_station_name  \\\n",
       "185773  Ashland Ave & Belle Plaine Ave  Ashland Ave & Belle Plaine Ave   \n",
       "267286           Dayton St & North Ave           Dayton St & North Ave   \n",
       "\n",
       "       member_casual  duration  day_of_week  month  day_of_month  hour_of_day  \n",
       "185773        member     -0.02            0      3            29           15  \n",
       "267286        casual     -0.02            5      3            13           18  "
      ]
     },
     "execution_count": 44,
     "metadata": {},
     "output_type": "execute_result"
    }
   ],
   "source": [
    "data[data['duration']<0].head(2) ## negative values not possible so we need to remove these data"
   ]
  },
  {
   "cell_type": "code",
   "execution_count": 45,
   "id": "98530b5d",
   "metadata": {},
   "outputs": [],
   "source": [
    "data=data[data['duration']>0]"
   ]
  },
  {
   "cell_type": "code",
   "execution_count": 46,
   "id": "3c587c2f",
   "metadata": {},
   "outputs": [
    {
     "name": "stdout",
     "output_type": "stream",
     "text": [
      "mean 21.811794536662234\n",
      "max 55944.15\n",
      "min 0.02\n"
     ]
    }
   ],
   "source": [
    "print(\"mean\",data['duration'].mean())\n",
    "print(\"max\",data['duration'].max())\n",
    "print(\"min\",data['duration'].min())"
   ]
  },
  {
   "cell_type": "code",
   "execution_count": 47,
   "id": "00586f10",
   "metadata": {},
   "outputs": [
    {
     "data": {
      "text/plain": [
       "12.2"
      ]
     },
     "execution_count": 47,
     "metadata": {},
     "output_type": "execute_result"
    }
   ],
   "source": [
    "data['duration'].median()"
   ]
  },
  {
   "cell_type": "code",
   "execution_count": 48,
   "id": "30953e2c",
   "metadata": {},
   "outputs": [],
   "source": [
    "data['member_casual']=data['member_casual'].map({'member':1, 'casual':0})"
   ]
  },
  {
   "cell_type": "code",
   "execution_count": 49,
   "id": "4872483b",
   "metadata": {},
   "outputs": [
    {
     "data": {
      "text/plain": [
       "array([1, 0], dtype=int64)"
      ]
     },
     "execution_count": 49,
     "metadata": {},
     "output_type": "execute_result"
    }
   ],
   "source": [
    "data['member_casual'].unique()"
   ]
  },
  {
   "cell_type": "code",
   "execution_count": 50,
   "id": "9837062b",
   "metadata": {},
   "outputs": [
    {
     "data": {
      "text/plain": [
       "<AxesSubplot:>"
      ]
     },
     "execution_count": 50,
     "metadata": {},
     "output_type": "execute_result"
    },
    {
     "data": {
      "image/png": "[encoded data removed]",
      "text/plain": [
       "<Figure size 432x288 with 1 Axes>"
      ]
     },
     "metadata": {
      "needs_background": "light"
     },
     "output_type": "display_data"
    }
   ],
   "source": [
    "sns.heatmap(data.corr(),cbar=False,annot=True)"
   ]
  },
  {
   "cell_type": "code",
   "execution_count": 51,
   "id": "0525f994",
   "metadata": {},
   "outputs": [],
   "source": [
    "data['member_casual']=data['member_casual'].map({1:'member', 0:'casual'})"
   ]
  },
  {
   "cell_type": "code",
   "execution_count": 52,
   "id": "063f2080",
   "metadata": {},
   "outputs": [],
   "source": [
    "data['month']=data['month'].map({1:\"Jan\",2:\"Feb\",3:\"Mar\",4:\"Apr\",5:\"May\",6:\"Jun\",7:\"Jul\",8:\"Aug\",9:\"Sep\",10:\"Oct\",11:\"Nov\",12:\"Dec\"})"
   ]
  },
  {
   "cell_type": "code",
   "execution_count": 53,
   "id": "1a43eb97",
   "metadata": {},
   "outputs": [],
   "source": [
    "data['day_of_week']=data['day_of_week'].map({0:'Mon',1:'Tue',2:'Wed',3:'Thu',4:'Fri',5:'Sat',6:'Sun'})"
   ]
  },
  {
   "cell_type": "code",
   "execution_count": 54,
   "id": "23b1be14",
   "metadata": {},
   "outputs": [
    {
     "data": {
      "text/html": [
       "<div>\n",
       "<style scoped>\n",
       "    .dataframe tbody tr th:only-of-type {\n",
       "        vertical-align: middle;\n",
       "    }\n",
       "\n",
       "    .dataframe tbody tr th {\n",
       "        vertical-align: top;\n",
       "    }\n",
       "\n",
       "    .dataframe thead th {\n",
       "        text-align: right;\n",
       "    }\n",
       "</style>\n",
       "<table border=\"1\" class=\"dataframe\">\n",
       "  <thead>\n",
       "    <tr style=\"text-align: right;\">\n",
       "      <th></th>\n",
       "      <th>rideable_type</th>\n",
       "      <th>started_at</th>\n",
       "      <th>ended_at</th>\n",
       "      <th>start_station_name</th>\n",
       "      <th>end_station_name</th>\n",
       "      <th>member_casual</th>\n",
       "      <th>duration</th>\n",
       "      <th>day_of_week</th>\n",
       "      <th>month</th>\n",
       "      <th>day_of_month</th>\n",
       "      <th>hour_of_day</th>\n",
       "    </tr>\n",
       "  </thead>\n",
       "  <tbody>\n",
       "    <tr>\n",
       "      <th>9</th>\n",
       "      <td>classic_bike</td>\n",
       "      <td>2021-01-24 19:15:38</td>\n",
       "      <td>2021-01-24 19:22:51</td>\n",
       "      <td>California Ave &amp; Cortez St</td>\n",
       "      <td>Wood St &amp; Augusta Blvd</td>\n",
       "      <td>member</td>\n",
       "      <td>7.22</td>\n",
       "      <td>Sun</td>\n",
       "      <td>Jan</td>\n",
       "      <td>24</td>\n",
       "      <td>19</td>\n",
       "    </tr>\n",
       "    <tr>\n",
       "      <th>10</th>\n",
       "      <td>electric_bike</td>\n",
       "      <td>2021-01-23 12:57:38</td>\n",
       "      <td>2021-01-23 13:02:10</td>\n",
       "      <td>California Ave &amp; Cortez St</td>\n",
       "      <td>California Ave &amp; North Ave</td>\n",
       "      <td>member</td>\n",
       "      <td>4.53</td>\n",
       "      <td>Sat</td>\n",
       "      <td>Jan</td>\n",
       "      <td>23</td>\n",
       "      <td>12</td>\n",
       "    </tr>\n",
       "  </tbody>\n",
       "</table>\n",
       "</div>"
      ],
      "text/plain": [
       "    rideable_type          started_at            ended_at  \\\n",
       "9    classic_bike 2021-01-24 19:15:38 2021-01-24 19:22:51   \n",
       "10  electric_bike 2021-01-23 12:57:38 2021-01-23 13:02:10   \n",
       "\n",
       "            start_station_name            end_station_name member_casual  \\\n",
       "9   California Ave & Cortez St      Wood St & Augusta Blvd        member   \n",
       "10  California Ave & Cortez St  California Ave & North Ave        member   \n",
       "\n",
       "    duration day_of_week month  day_of_month  hour_of_day  \n",
       "9       7.22         Sun   Jan            24           19  \n",
       "10      4.53         Sat   Jan            23           12  "
      ]
     },
     "execution_count": 54,
     "metadata": {},
     "output_type": "execute_result"
    }
   ],
   "source": [
    "data.head(2)"
   ]
  },
  {
   "cell_type": "code",
   "execution_count": 55,
   "id": "f6a9e051",
   "metadata": {},
   "outputs": [
    {
     "data": {
      "text/plain": [
       "17    469568\n",
       "18    404553\n",
       "16    384600\n",
       "15    318320\n",
       "19    296161\n",
       "14    288271\n",
       "13    286387\n",
       "12    280397\n",
       "11    239353\n",
       "20    204281\n",
       "8     199282\n",
       "10    190742\n",
       "9     169111\n",
       "7     166394\n",
       "21    159937\n",
       "22    134967\n",
       "23     98680\n",
       "6      91036\n",
       "0      67549\n",
       "1      47024\n",
       "5      34394\n",
       "2      28550\n",
       "3      15324\n",
       "4      12682\n",
       "Name: hour_of_day, dtype: int64"
      ]
     },
     "execution_count": 55,
     "metadata": {},
     "output_type": "execute_result"
    }
   ],
   "source": [
    "data['hour_of_day'].value_counts()"
   ]
  },
  {
   "cell_type": "code",
   "execution_count": 56,
   "id": "b640c9c9",
   "metadata": {},
   "outputs": [
    {
     "data": {
      "text/plain": [
       "<AxesSubplot:xlabel='hour_of_day', ylabel='count'>"
      ]
     },
     "execution_count": 56,
     "metadata": {},
     "output_type": "execute_result"
    },
    {
     "data": {
      "image/png": "[encoded data removed]",
      "text/plain": [
       "<Figure size 864x576 with 1 Axes>"
      ]
     },
     "metadata": {
      "needs_background": "light"
     },
     "output_type": "display_data"
    }
   ],
   "source": [
    "plt.figure(figsize=(12,8))\n",
    "\n",
    "sns.countplot(x='hour_of_day',data=data)"
   ]
  },
  {
   "cell_type": "code",
   "execution_count": 57,
   "id": "93fd3dec",
   "metadata": {},
   "outputs": [
    {
     "data": {
      "text/plain": [
       "<AxesSubplot:xlabel='hour_of_day', ylabel='count'>"
      ]
     },
     "execution_count": 57,
     "metadata": {},
     "output_type": "execute_result"
    },
    {
     "data": {
      "image/png": "[encoded data removed]",
      "text/plain": [
       "<Figure size 864x432 with 1 Axes>"
      ]
     },
     "metadata": {
      "needs_background": "light"
     },
     "output_type": "display_data"
    }
   ],
   "source": [
    "plt.figure(figsize=(12,6))\n",
    "\n",
    "sns.countplot(x='hour_of_day',data=data,hue='member_casual')"
   ]
  },
  {
   "cell_type": "code",
   "execution_count": 58,
   "id": "5a5c408f",
   "metadata": {},
   "outputs": [
    {
     "data": {
      "text/plain": [
       "<AxesSubplot:xlabel='day_of_week', ylabel='count'>"
      ]
     },
     "execution_count": 58,
     "metadata": {},
     "output_type": "execute_result"
    },
    {
     "data": {
      "image/png": "[encoded data removed]",
      "text/plain": [
       "<Figure size 864x576 with 1 Axes>"
      ]
     },
     "metadata": {
      "needs_background": "light"
     },
     "output_type": "display_data"
    }
   ],
   "source": [
    "plt.figure(figsize=(12,8))\n",
    "sns.countplot(x='day_of_week',data=data)"
   ]
  },
  {
   "cell_type": "markdown",
   "id": "b7e9f6bf",
   "metadata": {},
   "source": [
    "### Least customer on monday and maximum on weekends"
   ]
  },
  {
   "cell_type": "code",
   "execution_count": 59,
   "id": "ec45923f",
   "metadata": {},
   "outputs": [
    {
     "data": {
      "text/html": [
       "<div>\n",
       "<style scoped>\n",
       "    .dataframe tbody tr th:only-of-type {\n",
       "        vertical-align: middle;\n",
       "    }\n",
       "\n",
       "    .dataframe tbody tr th {\n",
       "        vertical-align: top;\n",
       "    }\n",
       "\n",
       "    .dataframe thead th {\n",
       "        text-align: right;\n",
       "    }\n",
       "</style>\n",
       "<table border=\"1\" class=\"dataframe\">\n",
       "  <thead>\n",
       "    <tr style=\"text-align: right;\">\n",
       "      <th></th>\n",
       "      <th></th>\n",
       "      <th>duration</th>\n",
       "    </tr>\n",
       "    <tr>\n",
       "      <th>day_of_week</th>\n",
       "      <th>member_casual</th>\n",
       "      <th></th>\n",
       "    </tr>\n",
       "  </thead>\n",
       "  <tbody>\n",
       "    <tr>\n",
       "      <th rowspan=\"2\" valign=\"top\">Fri</th>\n",
       "      <th>casual</th>\n",
       "      <td>30.919244</td>\n",
       "    </tr>\n",
       "    <tr>\n",
       "      <th>member</th>\n",
       "      <td>12.792359</td>\n",
       "    </tr>\n",
       "    <tr>\n",
       "      <th rowspan=\"2\" valign=\"top\">Mon</th>\n",
       "      <th>casual</th>\n",
       "      <td>32.637952</td>\n",
       "    </tr>\n",
       "    <tr>\n",
       "      <th>member</th>\n",
       "      <td>12.725236</td>\n",
       "    </tr>\n",
       "    <tr>\n",
       "      <th rowspan=\"2\" valign=\"top\">Sat</th>\n",
       "      <th>casual</th>\n",
       "      <td>34.873042</td>\n",
       "    </tr>\n",
       "    <tr>\n",
       "      <th>member</th>\n",
       "      <td>14.819880</td>\n",
       "    </tr>\n",
       "    <tr>\n",
       "      <th rowspan=\"2\" valign=\"top\">Sun</th>\n",
       "      <th>casual</th>\n",
       "      <td>37.605504</td>\n",
       "    </tr>\n",
       "    <tr>\n",
       "      <th>member</th>\n",
       "      <td>15.194486</td>\n",
       "    </tr>\n",
       "    <tr>\n",
       "      <th rowspan=\"2\" valign=\"top\">Thu</th>\n",
       "      <th>casual</th>\n",
       "      <td>28.011562</td>\n",
       "    </tr>\n",
       "    <tr>\n",
       "      <th>member</th>\n",
       "      <td>12.353583</td>\n",
       "    </tr>\n",
       "    <tr>\n",
       "      <th rowspan=\"2\" valign=\"top\">Tue</th>\n",
       "      <th>casual</th>\n",
       "      <td>28.804039</td>\n",
       "    </tr>\n",
       "    <tr>\n",
       "      <th>member</th>\n",
       "      <td>12.387995</td>\n",
       "    </tr>\n",
       "    <tr>\n",
       "      <th rowspan=\"2\" valign=\"top\">Wed</th>\n",
       "      <th>casual</th>\n",
       "      <td>28.269492</td>\n",
       "    </tr>\n",
       "    <tr>\n",
       "      <th>member</th>\n",
       "      <td>12.458179</td>\n",
       "    </tr>\n",
       "  </tbody>\n",
       "</table>\n",
       "</div>"
      ],
      "text/plain": [
       "                            duration\n",
       "day_of_week member_casual           \n",
       "Fri         casual         30.919244\n",
       "            member         12.792359\n",
       "Mon         casual         32.637952\n",
       "            member         12.725236\n",
       "Sat         casual         34.873042\n",
       "            member         14.819880\n",
       "Sun         casual         37.605504\n",
       "            member         15.194486\n",
       "Thu         casual         28.011562\n",
       "            member         12.353583\n",
       "Tue         casual         28.804039\n",
       "            member         12.387995\n",
       "Wed         casual         28.269492\n",
       "            member         12.458179"
      ]
     },
     "execution_count": 59,
     "metadata": {},
     "output_type": "execute_result"
    }
   ],
   "source": [
    "data[['day_of_week','member_casual','duration']].groupby(['day_of_week','member_casual']).mean()"
   ]
  },
  {
   "cell_type": "code",
   "execution_count": 60,
   "id": "54c9ee63",
   "metadata": {},
   "outputs": [
    {
     "data": {
      "text/plain": [
       "<AxesSubplot:xlabel='day_of_week', ylabel='count'>"
      ]
     },
     "execution_count": 60,
     "metadata": {},
     "output_type": "execute_result"
    },
    {
     "data": {
      "image/png": "[encoded data removed]",
      "text/plain": [
       "<Figure size 864x432 with 1 Axes>"
      ]
     },
     "metadata": {
      "needs_background": "light"
     },
     "output_type": "display_data"
    }
   ],
   "source": [
    "plt.figure(figsize=(12,6))\n",
    "\n",
    "sns.countplot(x='day_of_week',data=data,hue='member_casual')"
   ]
  },
  {
   "cell_type": "markdown",
   "id": "4be2b5b7",
   "metadata": {},
   "source": [
    "### We can see that casual users are more in saturday and sunday wheareas members are more in weekdays"
   ]
  },
  {
   "cell_type": "code",
   "execution_count": 61,
   "id": "ed2ffcac",
   "metadata": {},
   "outputs": [
    {
     "data": {
      "text/plain": [
       "Jul    15.088883\n",
       "Aug    14.697695\n",
       "Sep    13.537144\n",
       "Jun    13.268199\n",
       "Oct    10.417644\n",
       "May     9.829097\n",
       "Apr     6.499507\n",
       "Nov     5.577013\n",
       "Mar     4.483034\n",
       "Dec     3.844350\n",
       "Jan     1.820247\n",
       "Feb     0.937186\n",
       "Name: month, dtype: float64"
      ]
     },
     "execution_count": 61,
     "metadata": {},
     "output_type": "execute_result"
    }
   ],
   "source": [
    "(data['month'].value_counts()/data['month'].count())*100"
   ]
  },
  {
   "cell_type": "code",
   "execution_count": 62,
   "id": "ffd46c55",
   "metadata": {},
   "outputs": [
    {
     "data": {
      "text/plain": [
       "76.838662"
      ]
     },
     "execution_count": 62,
     "metadata": {},
     "output_type": "execute_result"
    }
   ],
   "source": [
    "15.088883+14.697695+13.537144+13.268199+10.417644+ 9.829097"
   ]
  },
  {
   "cell_type": "markdown",
   "id": "999cb70a",
   "metadata": {},
   "source": [
    "### 76% of total are between may to oct"
   ]
  },
  {
   "cell_type": "code",
   "execution_count": 63,
   "id": "34e053a8",
   "metadata": {},
   "outputs": [
    {
     "data": {
      "text/plain": [
       "<AxesSubplot:xlabel='month', ylabel='count'>"
      ]
     },
     "execution_count": 63,
     "metadata": {},
     "output_type": "execute_result"
    },
    {
     "data": {
      "image/png": "[encoded data removed]",
      "text/plain": [
       "<Figure size 1080x432 with 1 Axes>"
      ]
     },
     "metadata": {
      "needs_background": "light"
     },
     "output_type": "display_data"
    }
   ],
   "source": [
    "plt.figure(figsize=(15,6))\n",
    "sns.countplot(x='month',data=data)"
   ]
  },
  {
   "cell_type": "code",
   "execution_count": 64,
   "id": "1dc3d96c",
   "metadata": {},
   "outputs": [
    {
     "data": {
      "text/plain": [
       "<AxesSubplot:xlabel='month', ylabel='count'>"
      ]
     },
     "execution_count": 64,
     "metadata": {},
     "output_type": "execute_result"
    },
    {
     "data": {
      "image/png": "[encoded data removed]",
      "text/plain": [
       "<Figure size 1080x576 with 1 Axes>"
      ]
     },
     "metadata": {
      "needs_background": "light"
     },
     "output_type": "display_data"
    }
   ],
   "source": [
    "plt.figure(figsize=(15,8))\n",
    "sns.countplot(x='month',data=data,hue='member_casual')"
   ]
  },
  {
   "cell_type": "code",
   "execution_count": 65,
   "id": "dc9078bd",
   "metadata": {},
   "outputs": [
    {
     "data": {
      "text/plain": [
       "<AxesSubplot:xlabel='day_of_month', ylabel='count'>"
      ]
     },
     "execution_count": 65,
     "metadata": {},
     "output_type": "execute_result"
    },
    {
     "data": {
      "image/png": "[encoded data removed]",
      "text/plain": [
       "<Figure size 864x576 with 1 Axes>"
      ]
     },
     "metadata": {
      "needs_background": "light"
     },
     "output_type": "display_data"
    }
   ],
   "source": [
    "plt.figure(figsize=(12,8))\n",
    "sns.countplot(x='day_of_month',data=data)"
   ]
  },
  {
   "cell_type": "markdown",
   "id": "eb8ba0a1",
   "metadata": {},
   "source": [
    "Mostly same every day of month"
   ]
  },
  {
   "cell_type": "code",
   "execution_count": 66,
   "id": "e0ccb26a",
   "metadata": {},
   "outputs": [],
   "source": [
    "day_type_mc=pd.DataFrame(data[['day_of_week','rideable_type','member_casual']].groupby(['day_of_week','rideable_type']).member_casual.value_counts())\n",
    "day_type_mc.to_csv('pivot_1.csv')"
   ]
  },
  {
   "cell_type": "code",
   "execution_count": 67,
   "id": "22b974c3",
   "metadata": {},
   "outputs": [
    {
     "data": {
      "text/html": [
       "<div>\n",
       "<style scoped>\n",
       "    .dataframe tbody tr th:only-of-type {\n",
       "        vertical-align: middle;\n",
       "    }\n",
       "\n",
       "    .dataframe tbody tr th {\n",
       "        vertical-align: top;\n",
       "    }\n",
       "\n",
       "    .dataframe thead th {\n",
       "        text-align: right;\n",
       "    }\n",
       "</style>\n",
       "<table border=\"1\" class=\"dataframe\">\n",
       "  <thead>\n",
       "    <tr style=\"text-align: right;\">\n",
       "      <th></th>\n",
       "      <th></th>\n",
       "      <th></th>\n",
       "      <th>member_casual</th>\n",
       "    </tr>\n",
       "    <tr>\n",
       "      <th>day_of_week</th>\n",
       "      <th>rideable_type</th>\n",
       "      <th>member_casual</th>\n",
       "      <th></th>\n",
       "    </tr>\n",
       "  </thead>\n",
       "  <tbody>\n",
       "    <tr>\n",
       "      <th rowspan=\"5\" valign=\"top\">Fri</th>\n",
       "      <th rowspan=\"2\" valign=\"top\">classic_bike</th>\n",
       "      <th>member</th>\n",
       "      <td>281118</td>\n",
       "    </tr>\n",
       "    <tr>\n",
       "      <th>casual</th>\n",
       "      <td>176189</td>\n",
       "    </tr>\n",
       "    <tr>\n",
       "      <th>docked_bike</th>\n",
       "      <th>casual</th>\n",
       "      <td>42046</td>\n",
       "    </tr>\n",
       "    <tr>\n",
       "      <th rowspan=\"2\" valign=\"top\">electric_bike</th>\n",
       "      <th>member</th>\n",
       "      <td>84626</td>\n",
       "    </tr>\n",
       "    <tr>\n",
       "      <th>casual</th>\n",
       "      <td>71755</td>\n",
       "    </tr>\n",
       "    <tr>\n",
       "      <th rowspan=\"5\" valign=\"top\">Mon</th>\n",
       "      <th rowspan=\"2\" valign=\"top\">classic_bike</th>\n",
       "      <th>member</th>\n",
       "      <td>270003</td>\n",
       "    </tr>\n",
       "    <tr>\n",
       "      <th>casual</th>\n",
       "      <td>135308</td>\n",
       "    </tr>\n",
       "    <tr>\n",
       "      <th>docked_bike</th>\n",
       "      <th>casual</th>\n",
       "      <td>36413</td>\n",
       "    </tr>\n",
       "    <tr>\n",
       "      <th rowspan=\"2\" valign=\"top\">electric_bike</th>\n",
       "      <th>member</th>\n",
       "      <td>76452</td>\n",
       "    </tr>\n",
       "    <tr>\n",
       "      <th>casual</th>\n",
       "      <td>57182</td>\n",
       "    </tr>\n",
       "    <tr>\n",
       "      <th rowspan=\"5\" valign=\"top\">Sat</th>\n",
       "      <th rowspan=\"2\" valign=\"top\">classic_bike</th>\n",
       "      <th>casual</th>\n",
       "      <td>300072</td>\n",
       "    </tr>\n",
       "    <tr>\n",
       "      <th>member</th>\n",
       "      <td>285182</td>\n",
       "    </tr>\n",
       "    <tr>\n",
       "      <th>docked_bike</th>\n",
       "      <th>casual</th>\n",
       "      <td>78331</td>\n",
       "    </tr>\n",
       "    <tr>\n",
       "      <th rowspan=\"2\" valign=\"top\">electric_bike</th>\n",
       "      <th>casual</th>\n",
       "      <td>89825</td>\n",
       "    </tr>\n",
       "    <tr>\n",
       "      <th>member</th>\n",
       "      <td>71836</td>\n",
       "    </tr>\n",
       "    <tr>\n",
       "      <th rowspan=\"5\" valign=\"top\">Sun</th>\n",
       "      <th rowspan=\"2\" valign=\"top\">classic_bike</th>\n",
       "      <th>casual</th>\n",
       "      <td>256390</td>\n",
       "    </tr>\n",
       "    <tr>\n",
       "      <th>member</th>\n",
       "      <td>252008</td>\n",
       "    </tr>\n",
       "    <tr>\n",
       "      <th>docked_bike</th>\n",
       "      <th>casual</th>\n",
       "      <td>70327</td>\n",
       "    </tr>\n",
       "    <tr>\n",
       "      <th rowspan=\"2\" valign=\"top\">electric_bike</th>\n",
       "      <th>casual</th>\n",
       "      <td>76952</td>\n",
       "    </tr>\n",
       "    <tr>\n",
       "      <th>member</th>\n",
       "      <td>59156</td>\n",
       "    </tr>\n",
       "    <tr>\n",
       "      <th rowspan=\"5\" valign=\"top\">Thu</th>\n",
       "      <th rowspan=\"2\" valign=\"top\">classic_bike</th>\n",
       "      <th>member</th>\n",
       "      <td>287384</td>\n",
       "    </tr>\n",
       "    <tr>\n",
       "      <th>casual</th>\n",
       "      <td>136798</td>\n",
       "    </tr>\n",
       "    <tr>\n",
       "      <th>docked_bike</th>\n",
       "      <th>casual</th>\n",
       "      <td>27651</td>\n",
       "    </tr>\n",
       "    <tr>\n",
       "      <th rowspan=\"2\" valign=\"top\">electric_bike</th>\n",
       "      <th>member</th>\n",
       "      <td>86056</td>\n",
       "    </tr>\n",
       "    <tr>\n",
       "      <th>casual</th>\n",
       "      <td>59727</td>\n",
       "    </tr>\n",
       "    <tr>\n",
       "      <th rowspan=\"5\" valign=\"top\">Tue</th>\n",
       "      <th rowspan=\"2\" valign=\"top\">classic_bike</th>\n",
       "      <th>member</th>\n",
       "      <td>298035</td>\n",
       "    </tr>\n",
       "    <tr>\n",
       "      <th>casual</th>\n",
       "      <td>125411</td>\n",
       "    </tr>\n",
       "    <tr>\n",
       "      <th>docked_bike</th>\n",
       "      <th>casual</th>\n",
       "      <td>29597</td>\n",
       "    </tr>\n",
       "    <tr>\n",
       "      <th rowspan=\"2\" valign=\"top\">electric_bike</th>\n",
       "      <th>member</th>\n",
       "      <td>90065</td>\n",
       "    </tr>\n",
       "    <tr>\n",
       "      <th>casual</th>\n",
       "      <td>59898</td>\n",
       "    </tr>\n",
       "    <tr>\n",
       "      <th rowspan=\"6\" valign=\"top\">Wed</th>\n",
       "      <th rowspan=\"2\" valign=\"top\">classic_bike</th>\n",
       "      <th>member</th>\n",
       "      <td>306406</td>\n",
       "    </tr>\n",
       "    <tr>\n",
       "      <th>casual</th>\n",
       "      <td>131113</td>\n",
       "    </tr>\n",
       "    <tr>\n",
       "      <th rowspan=\"2\" valign=\"top\">docked_bike</th>\n",
       "      <th>casual</th>\n",
       "      <td>27597</td>\n",
       "    </tr>\n",
       "    <tr>\n",
       "      <th>member</th>\n",
       "      <td>1</td>\n",
       "    </tr>\n",
       "    <tr>\n",
       "      <th rowspan=\"2\" valign=\"top\">electric_bike</th>\n",
       "      <th>member</th>\n",
       "      <td>91258</td>\n",
       "    </tr>\n",
       "    <tr>\n",
       "      <th>casual</th>\n",
       "      <td>59395</td>\n",
       "    </tr>\n",
       "  </tbody>\n",
       "</table>\n",
       "</div>"
      ],
      "text/plain": [
       "                                         member_casual\n",
       "day_of_week rideable_type member_casual               \n",
       "Fri         classic_bike  member                281118\n",
       "                          casual                176189\n",
       "            docked_bike   casual                 42046\n",
       "            electric_bike member                 84626\n",
       "                          casual                 71755\n",
       "Mon         classic_bike  member                270003\n",
       "                          casual                135308\n",
       "            docked_bike   casual                 36413\n",
       "            electric_bike member                 76452\n",
       "                          casual                 57182\n",
       "Sat         classic_bike  casual                300072\n",
       "                          member                285182\n",
       "            docked_bike   casual                 78331\n",
       "            electric_bike casual                 89825\n",
       "                          member                 71836\n",
       "Sun         classic_bike  casual                256390\n",
       "                          member                252008\n",
       "            docked_bike   casual                 70327\n",
       "            electric_bike casual                 76952\n",
       "                          member                 59156\n",
       "Thu         classic_bike  member                287384\n",
       "                          casual                136798\n",
       "            docked_bike   casual                 27651\n",
       "            electric_bike member                 86056\n",
       "                          casual                 59727\n",
       "Tue         classic_bike  member                298035\n",
       "                          casual                125411\n",
       "            docked_bike   casual                 29597\n",
       "            electric_bike member                 90065\n",
       "                          casual                 59898\n",
       "Wed         classic_bike  member                306406\n",
       "                          casual                131113\n",
       "            docked_bike   casual                 27597\n",
       "                          member                     1\n",
       "            electric_bike member                 91258\n",
       "                          casual                 59395"
      ]
     },
     "execution_count": 67,
     "metadata": {},
     "output_type": "execute_result"
    }
   ],
   "source": [
    "day_type_mc"
   ]
  },
  {
   "cell_type": "code",
   "execution_count": 68,
   "id": "0793d74d",
   "metadata": {},
   "outputs": [
    {
     "data": {
      "text/plain": [
       "Sat    825246\n",
       "Sun    714833\n",
       "Fri    655734\n",
       "Wed    615770\n",
       "Tue    603006\n",
       "Thu    597616\n",
       "Mon    575358\n",
       "Name: day_of_week, dtype: int64"
      ]
     },
     "execution_count": 68,
     "metadata": {},
     "output_type": "execute_result"
    }
   ],
   "source": [
    "data['day_of_week'].value_counts()"
   ]
  },
  {
   "cell_type": "code",
   "execution_count": 75,
   "id": "62a25540",
   "metadata": {},
   "outputs": [
    {
     "data": {
      "text/html": [
       "<div>\n",
       "<style scoped>\n",
       "    .dataframe tbody tr th:only-of-type {\n",
       "        vertical-align: middle;\n",
       "    }\n",
       "\n",
       "    .dataframe tbody tr th {\n",
       "        vertical-align: top;\n",
       "    }\n",
       "\n",
       "    .dataframe thead th {\n",
       "        text-align: right;\n",
       "    }\n",
       "</style>\n",
       "<table border=\"1\" class=\"dataframe\">\n",
       "  <thead>\n",
       "    <tr style=\"text-align: right;\">\n",
       "      <th></th>\n",
       "      <th>rideable_type</th>\n",
       "      <th>mean_duration</th>\n",
       "    </tr>\n",
       "  </thead>\n",
       "  <tbody>\n",
       "    <tr>\n",
       "      <th>1</th>\n",
       "      <td>docked_bike</td>\n",
       "      <td>78.108655</td>\n",
       "    </tr>\n",
       "    <tr>\n",
       "      <th>0</th>\n",
       "      <td>classic_bike</td>\n",
       "      <td>18.371911</td>\n",
       "    </tr>\n",
       "    <tr>\n",
       "      <th>2</th>\n",
       "      <td>electric_bike</td>\n",
       "      <td>15.611305</td>\n",
       "    </tr>\n",
       "  </tbody>\n",
       "</table>\n",
       "</div>"
      ],
      "text/plain": [
       "   rideable_type  mean_duration\n",
       "1    docked_bike      78.108655\n",
       "0   classic_bike      18.371911\n",
       "2  electric_bike      15.611305"
      ]
     },
     "execution_count": 75,
     "metadata": {},
     "output_type": "execute_result"
    }
   ],
   "source": [
    "data[['rideable_type','duration']].groupby(['rideable_type']).mean().reset_index(level=0).rename(columns={'duration':'mean_duration'}).sort_values(by=['mean_duration'],ascending=False)"
   ]
  },
  {
   "cell_type": "code",
   "execution_count": 74,
   "id": "ad91ffdd",
   "metadata": {
    "scrolled": true
   },
   "outputs": [
    {
     "data": {
      "text/html": [
       "<div>\n",
       "<style scoped>\n",
       "    .dataframe tbody tr th:only-of-type {\n",
       "        vertical-align: middle;\n",
       "    }\n",
       "\n",
       "    .dataframe tbody tr th {\n",
       "        vertical-align: top;\n",
       "    }\n",
       "\n",
       "    .dataframe thead th {\n",
       "        text-align: right;\n",
       "    }\n",
       "</style>\n",
       "<table border=\"1\" class=\"dataframe\">\n",
       "  <thead>\n",
       "    <tr style=\"text-align: right;\">\n",
       "      <th></th>\n",
       "      <th>day_of_week</th>\n",
       "      <th>mean_duration</th>\n",
       "    </tr>\n",
       "  </thead>\n",
       "  <tbody>\n",
       "    <tr>\n",
       "      <th>3</th>\n",
       "      <td>Sun</td>\n",
       "      <td>27.850076</td>\n",
       "    </tr>\n",
       "    <tr>\n",
       "      <th>2</th>\n",
       "      <td>Sat</td>\n",
       "      <td>26.197641</td>\n",
       "    </tr>\n",
       "    <tr>\n",
       "      <th>0</th>\n",
       "      <td>Fri</td>\n",
       "      <td>20.808743</td>\n",
       "    </tr>\n",
       "    <tr>\n",
       "      <th>1</th>\n",
       "      <td>Mon</td>\n",
       "      <td>20.647400</td>\n",
       "    </tr>\n",
       "    <tr>\n",
       "      <th>5</th>\n",
       "      <td>Tue</td>\n",
       "      <td>18.238528</td>\n",
       "    </tr>\n",
       "    <tr>\n",
       "      <th>4</th>\n",
       "      <td>Thu</td>\n",
       "      <td>18.227159</td>\n",
       "    </tr>\n",
       "    <tr>\n",
       "      <th>6</th>\n",
       "      <td>Wed</td>\n",
       "      <td>18.058527</td>\n",
       "    </tr>\n",
       "  </tbody>\n",
       "</table>\n",
       "</div>"
      ],
      "text/plain": [
       "  day_of_week  mean_duration\n",
       "3         Sun      27.850076\n",
       "2         Sat      26.197641\n",
       "0         Fri      20.808743\n",
       "1         Mon      20.647400\n",
       "5         Tue      18.238528\n",
       "4         Thu      18.227159\n",
       "6         Wed      18.058527"
      ]
     },
     "execution_count": 74,
     "metadata": {},
     "output_type": "execute_result"
    }
   ],
   "source": [
    "data[['day_of_week','duration']].groupby(['day_of_week']).mean().reset_index(level=0).rename(columns={'duration':'mean_duration'}).sort_values(by=['mean_duration'],ascending=False)"
   ]
  },
  {
   "cell_type": "markdown",
   "id": "56578e1a",
   "metadata": {},
   "source": [
    "Saturday and sunday having maximum trip duration"
   ]
  },
  {
   "cell_type": "code",
   "execution_count": 77,
   "id": "fc4c69c2",
   "metadata": {},
   "outputs": [
    {
     "data": {
      "text/html": [
       "<div>\n",
       "<style scoped>\n",
       "    .dataframe tbody tr th:only-of-type {\n",
       "        vertical-align: middle;\n",
       "    }\n",
       "\n",
       "    .dataframe tbody tr th {\n",
       "        vertical-align: top;\n",
       "    }\n",
       "\n",
       "    .dataframe thead th {\n",
       "        text-align: right;\n",
       "    }\n",
       "</style>\n",
       "<table border=\"1\" class=\"dataframe\">\n",
       "  <thead>\n",
       "    <tr style=\"text-align: right;\">\n",
       "      <th></th>\n",
       "      <th></th>\n",
       "      <th>duration</th>\n",
       "    </tr>\n",
       "    <tr>\n",
       "      <th>day_of_week</th>\n",
       "      <th>rideable_type</th>\n",
       "      <th></th>\n",
       "    </tr>\n",
       "  </thead>\n",
       "  <tbody>\n",
       "    <tr>\n",
       "      <th rowspan=\"3\" valign=\"top\">Fri</th>\n",
       "      <th>classic_bike</th>\n",
       "      <td>17.401629</td>\n",
       "    </tr>\n",
       "    <tr>\n",
       "      <th>docked_bike</th>\n",
       "      <td>79.404632</td>\n",
       "    </tr>\n",
       "    <tr>\n",
       "      <th>electric_bike</th>\n",
       "      <td>15.017594</td>\n",
       "    </tr>\n",
       "    <tr>\n",
       "      <th rowspan=\"3\" valign=\"top\">Mon</th>\n",
       "      <th>classic_bike</th>\n",
       "      <td>17.506206</td>\n",
       "    </tr>\n",
       "    <tr>\n",
       "      <th>docked_bike</th>\n",
       "      <td>75.605355</td>\n",
       "    </tr>\n",
       "    <tr>\n",
       "      <th>electric_bike</th>\n",
       "      <td>15.199509</td>\n",
       "    </tr>\n",
       "    <tr>\n",
       "      <th rowspan=\"3\" valign=\"top\">Sat</th>\n",
       "      <th>classic_bike</th>\n",
       "      <td>21.648165</td>\n",
       "    </tr>\n",
       "    <tr>\n",
       "      <th>docked_bike</th>\n",
       "      <td>76.588063</td>\n",
       "    </tr>\n",
       "    <tr>\n",
       "      <th>electric_bike</th>\n",
       "      <td>18.251797</td>\n",
       "    </tr>\n",
       "    <tr>\n",
       "      <th rowspan=\"3\" valign=\"top\">Sun</th>\n",
       "      <th>classic_bike</th>\n",
       "      <td>22.482061</td>\n",
       "    </tr>\n",
       "    <tr>\n",
       "      <th>docked_bike</th>\n",
       "      <td>83.116951</td>\n",
       "    </tr>\n",
       "    <tr>\n",
       "      <th>electric_bike</th>\n",
       "      <td>19.344583</td>\n",
       "    </tr>\n",
       "    <tr>\n",
       "      <th rowspan=\"3\" valign=\"top\">Thu</th>\n",
       "      <th>classic_bike</th>\n",
       "      <td>15.848106</td>\n",
       "    </tr>\n",
       "    <tr>\n",
       "      <th>docked_bike</th>\n",
       "      <td>78.145540</td>\n",
       "    </tr>\n",
       "    <tr>\n",
       "      <th>electric_bike</th>\n",
       "      <td>13.784585</td>\n",
       "    </tr>\n",
       "    <tr>\n",
       "      <th rowspan=\"3\" valign=\"top\">Tue</th>\n",
       "      <th>classic_bike</th>\n",
       "      <td>15.994245</td>\n",
       "    </tr>\n",
       "    <tr>\n",
       "      <th>docked_bike</th>\n",
       "      <td>72.050577</td>\n",
       "    </tr>\n",
       "    <tr>\n",
       "      <th>electric_bike</th>\n",
       "      <td>13.955188</td>\n",
       "    </tr>\n",
       "    <tr>\n",
       "      <th rowspan=\"3\" valign=\"top\">Wed</th>\n",
       "      <th>classic_bike</th>\n",
       "      <td>15.777579</td>\n",
       "    </tr>\n",
       "    <tr>\n",
       "      <th>docked_bike</th>\n",
       "      <td>77.450416</td>\n",
       "    </tr>\n",
       "    <tr>\n",
       "      <th>electric_bike</th>\n",
       "      <td>13.802795</td>\n",
       "    </tr>\n",
       "  </tbody>\n",
       "</table>\n",
       "</div>"
      ],
      "text/plain": [
       "                            duration\n",
       "day_of_week rideable_type           \n",
       "Fri         classic_bike   17.401629\n",
       "            docked_bike    79.404632\n",
       "            electric_bike  15.017594\n",
       "Mon         classic_bike   17.506206\n",
       "            docked_bike    75.605355\n",
       "            electric_bike  15.199509\n",
       "Sat         classic_bike   21.648165\n",
       "            docked_bike    76.588063\n",
       "            electric_bike  18.251797\n",
       "Sun         classic_bike   22.482061\n",
       "            docked_bike    83.116951\n",
       "            electric_bike  19.344583\n",
       "Thu         classic_bike   15.848106\n",
       "            docked_bike    78.145540\n",
       "            electric_bike  13.784585\n",
       "Tue         classic_bike   15.994245\n",
       "            docked_bike    72.050577\n",
       "            electric_bike  13.955188\n",
       "Wed         classic_bike   15.777579\n",
       "            docked_bike    77.450416\n",
       "            electric_bike  13.802795"
      ]
     },
     "execution_count": 77,
     "metadata": {},
     "output_type": "execute_result"
    }
   ],
   "source": [
    "data_day_type=data[['day_of_week','rideable_type','duration']].groupby(['day_of_week','rideable_type']).mean()\n",
    "data_day_type"
   ]
  },
  {
   "cell_type": "markdown",
   "id": "31d1155e",
   "metadata": {},
   "source": [
    "Not such correlation found"
   ]
  },
  {
   "cell_type": "code",
   "execution_count": 84,
   "id": "aa2bcfba",
   "metadata": {},
   "outputs": [
    {
     "data": {
      "text/plain": [
       "<AxesSubplot:xlabel='day_of_week,rideable_type'>"
      ]
     },
     "execution_count": 84,
     "metadata": {},
     "output_type": "execute_result"
    },
    {
     "data": {
      "image/png": "[encoded data removed]",
      "text/plain": [
       "<Figure size 432x288 with 1 Axes>"
      ]
     },
     "metadata": {
      "needs_background": "light"
     },
     "output_type": "display_data"
    }
   ],
   "source": [
    "data_day_type.plot(kind='bar')"
   ]
  },
  {
   "cell_type": "markdown",
   "id": "cf10eefb",
   "metadata": {},
   "source": [
    "### 76% of the total is between May to Oct.\n",
    "#### So our main focus should be between May to Oct.\n",
    "\n",
    "### Saturday and Sunday have a maximum trip duration\n",
    "#### We should introduce a new rate per hour for weekends.\n",
    "\n",
    "### Mostly same every day of the month.\n",
    "#### Nothing as such for now.\n",
    "\n",
    "### We can see that casual users are more on Saturday and Sunday whereas members are more on weekdays.\n",
    "#### Advertisements should be given more emphasis on weekends to convert casual customers to members.\n",
    "\n",
    "### Least customer on Monday and maximum on weekends\n",
    "#### Mostly member use on Monday.\n"
   ]
  },
  {
   "cell_type": "markdown",
   "id": "7e6607b5",
   "metadata": {},
   "source": [
    "## Thank You!"
   ]
  }
 ],
 "metadata": {
  "kernelspec": {
   "display_name": "Python 3 (ipykernel)",
   "language": "python",
   "name": "python3"
  },
  "language_info": {
   "codemirror_mode": {
    "name": "ipython",
    "version": 3
   },
   "file_extension": ".py",
   "mimetype": "text/x-python",
   "name": "python",
   "nbconvert_exporter": "python",
   "pygments_lexer": "ipython3",
   "version": "3.9.7"
  }
 },
 "nbformat": 4,
 "nbformat_minor": 5
}
